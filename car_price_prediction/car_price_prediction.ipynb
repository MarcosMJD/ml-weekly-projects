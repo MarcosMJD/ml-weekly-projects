{
 "cells": [
  {
   "cell_type": "markdown",
   "id": "92cde0fa",
   "metadata": {},
   "source": [
    "# Problem statement"
   ]
  },
  {
   "cell_type": "markdown",
   "id": "d3e86969",
   "metadata": {},
   "source": [
    "A user wants to sell his/her car and does not know which price to use"
   ]
  },
  {
   "cell_type": "code",
   "execution_count": 2058,
   "id": "f6e98ff6",
   "metadata": {},
   "outputs": [],
   "source": [
    "import pandas as pd\n",
    "import numpy as np\n",
    "import matplotlib.pyplot as plt\n",
    "import seaborn as sns\n",
    "%matplotlib inline\n",
    "from IPython.display import display, HTML"
   ]
  },
  {
   "cell_type": "markdown",
   "id": "43870412",
   "metadata": {},
   "source": [
    "# Prepare dataset"
   ]
  },
  {
   "cell_type": "markdown",
   "id": "c6bb5919",
   "metadata": {},
   "source": [
    "Read dataset\n",
    "Format column names\n",
    "Get numerical and categorical columns\n",
    "Fix categorical values"
   ]
  },
  {
   "cell_type": "code",
   "execution_count": 2059,
   "id": "62eff18d",
   "metadata": {},
   "outputs": [],
   "source": [
    "df = pd.read_csv(\"data.csv\")"
   ]
  },
  {
   "cell_type": "markdown",
   "id": "02c7f728",
   "metadata": {},
   "source": [
    "df.columns in an Index type, similar to Series, we can use the same methods"
   ]
  },
  {
   "cell_type": "code",
   "execution_count": 2060,
   "id": "83434b28",
   "metadata": {},
   "outputs": [
    {
     "data": {
      "text/html": [
       "<div>\n",
       "<style scoped>\n",
       "    .dataframe tbody tr th:only-of-type {\n",
       "        vertical-align: middle;\n",
       "    }\n",
       "\n",
       "    .dataframe tbody tr th {\n",
       "        vertical-align: top;\n",
       "    }\n",
       "\n",
       "    .dataframe thead th {\n",
       "        text-align: right;\n",
       "    }\n",
       "</style>\n",
       "<table border=\"1\" class=\"dataframe\">\n",
       "  <thead>\n",
       "    <tr style=\"text-align: right;\">\n",
       "      <th></th>\n",
       "      <th>Make</th>\n",
       "      <th>Model</th>\n",
       "      <th>Year</th>\n",
       "      <th>Engine Fuel Type</th>\n",
       "      <th>Engine HP</th>\n",
       "      <th>Engine Cylinders</th>\n",
       "      <th>Transmission Type</th>\n",
       "      <th>Driven_Wheels</th>\n",
       "      <th>Number of Doors</th>\n",
       "      <th>Market Category</th>\n",
       "      <th>Vehicle Size</th>\n",
       "      <th>Vehicle Style</th>\n",
       "      <th>highway MPG</th>\n",
       "      <th>city mpg</th>\n",
       "      <th>Popularity</th>\n",
       "      <th>MSRP</th>\n",
       "    </tr>\n",
       "  </thead>\n",
       "  <tbody>\n",
       "    <tr>\n",
       "      <th>0</th>\n",
       "      <td>BMW</td>\n",
       "      <td>1 Series M</td>\n",
       "      <td>2011</td>\n",
       "      <td>premium unleaded (required)</td>\n",
       "      <td>335.0</td>\n",
       "      <td>6.0</td>\n",
       "      <td>MANUAL</td>\n",
       "      <td>rear wheel drive</td>\n",
       "      <td>2.0</td>\n",
       "      <td>Factory Tuner,Luxury,High-Performance</td>\n",
       "      <td>Compact</td>\n",
       "      <td>Coupe</td>\n",
       "      <td>26</td>\n",
       "      <td>19</td>\n",
       "      <td>3916</td>\n",
       "      <td>46135</td>\n",
       "    </tr>\n",
       "    <tr>\n",
       "      <th>1</th>\n",
       "      <td>BMW</td>\n",
       "      <td>1 Series</td>\n",
       "      <td>2011</td>\n",
       "      <td>premium unleaded (required)</td>\n",
       "      <td>300.0</td>\n",
       "      <td>6.0</td>\n",
       "      <td>MANUAL</td>\n",
       "      <td>rear wheel drive</td>\n",
       "      <td>2.0</td>\n",
       "      <td>Luxury,Performance</td>\n",
       "      <td>Compact</td>\n",
       "      <td>Convertible</td>\n",
       "      <td>28</td>\n",
       "      <td>19</td>\n",
       "      <td>3916</td>\n",
       "      <td>40650</td>\n",
       "    </tr>\n",
       "    <tr>\n",
       "      <th>2</th>\n",
       "      <td>BMW</td>\n",
       "      <td>1 Series</td>\n",
       "      <td>2011</td>\n",
       "      <td>premium unleaded (required)</td>\n",
       "      <td>300.0</td>\n",
       "      <td>6.0</td>\n",
       "      <td>MANUAL</td>\n",
       "      <td>rear wheel drive</td>\n",
       "      <td>2.0</td>\n",
       "      <td>Luxury,High-Performance</td>\n",
       "      <td>Compact</td>\n",
       "      <td>Coupe</td>\n",
       "      <td>28</td>\n",
       "      <td>20</td>\n",
       "      <td>3916</td>\n",
       "      <td>36350</td>\n",
       "    </tr>\n",
       "    <tr>\n",
       "      <th>3</th>\n",
       "      <td>BMW</td>\n",
       "      <td>1 Series</td>\n",
       "      <td>2011</td>\n",
       "      <td>premium unleaded (required)</td>\n",
       "      <td>230.0</td>\n",
       "      <td>6.0</td>\n",
       "      <td>MANUAL</td>\n",
       "      <td>rear wheel drive</td>\n",
       "      <td>2.0</td>\n",
       "      <td>Luxury,Performance</td>\n",
       "      <td>Compact</td>\n",
       "      <td>Coupe</td>\n",
       "      <td>28</td>\n",
       "      <td>18</td>\n",
       "      <td>3916</td>\n",
       "      <td>29450</td>\n",
       "    </tr>\n",
       "    <tr>\n",
       "      <th>4</th>\n",
       "      <td>BMW</td>\n",
       "      <td>1 Series</td>\n",
       "      <td>2011</td>\n",
       "      <td>premium unleaded (required)</td>\n",
       "      <td>230.0</td>\n",
       "      <td>6.0</td>\n",
       "      <td>MANUAL</td>\n",
       "      <td>rear wheel drive</td>\n",
       "      <td>2.0</td>\n",
       "      <td>Luxury</td>\n",
       "      <td>Compact</td>\n",
       "      <td>Convertible</td>\n",
       "      <td>28</td>\n",
       "      <td>18</td>\n",
       "      <td>3916</td>\n",
       "      <td>34500</td>\n",
       "    </tr>\n",
       "  </tbody>\n",
       "</table>\n",
       "</div>"
      ],
      "text/plain": [
       "  Make       Model  Year             Engine Fuel Type  Engine HP  \\\n",
       "0  BMW  1 Series M  2011  premium unleaded (required)      335.0   \n",
       "1  BMW    1 Series  2011  premium unleaded (required)      300.0   \n",
       "2  BMW    1 Series  2011  premium unleaded (required)      300.0   \n",
       "3  BMW    1 Series  2011  premium unleaded (required)      230.0   \n",
       "4  BMW    1 Series  2011  premium unleaded (required)      230.0   \n",
       "\n",
       "   Engine Cylinders Transmission Type     Driven_Wheels  Number of Doors  \\\n",
       "0               6.0            MANUAL  rear wheel drive              2.0   \n",
       "1               6.0            MANUAL  rear wheel drive              2.0   \n",
       "2               6.0            MANUAL  rear wheel drive              2.0   \n",
       "3               6.0            MANUAL  rear wheel drive              2.0   \n",
       "4               6.0            MANUAL  rear wheel drive              2.0   \n",
       "\n",
       "                         Market Category Vehicle Size Vehicle Style  \\\n",
       "0  Factory Tuner,Luxury,High-Performance      Compact         Coupe   \n",
       "1                     Luxury,Performance      Compact   Convertible   \n",
       "2                Luxury,High-Performance      Compact         Coupe   \n",
       "3                     Luxury,Performance      Compact         Coupe   \n",
       "4                                 Luxury      Compact   Convertible   \n",
       "\n",
       "   highway MPG  city mpg  Popularity   MSRP  \n",
       "0           26        19        3916  46135  \n",
       "1           28        19        3916  40650  \n",
       "2           28        20        3916  36350  \n",
       "3           28        18        3916  29450  \n",
       "4           28        18        3916  34500  "
      ]
     },
     "execution_count": 2060,
     "metadata": {},
     "output_type": "execute_result"
    }
   ],
   "source": [
    "df.head()"
   ]
  },
  {
   "cell_type": "code",
   "execution_count": 2061,
   "id": "b324e781",
   "metadata": {},
   "outputs": [
    {
     "data": {
      "text/plain": [
       "Make                  object\n",
       "Model                 object\n",
       "Year                   int64\n",
       "Engine Fuel Type      object\n",
       "Engine HP            float64\n",
       "Engine Cylinders     float64\n",
       "Transmission Type     object\n",
       "Driven_Wheels         object\n",
       "Number of Doors      float64\n",
       "Market Category       object\n",
       "Vehicle Size          object\n",
       "Vehicle Style         object\n",
       "highway MPG            int64\n",
       "city mpg               int64\n",
       "Popularity             int64\n",
       "MSRP                   int64\n",
       "dtype: object"
      ]
     },
     "execution_count": 2061,
     "metadata": {},
     "output_type": "execute_result"
    }
   ],
   "source": [
    "df.dtypes"
   ]
  },
  {
   "cell_type": "code",
   "execution_count": 2062,
   "id": "6472e411",
   "metadata": {},
   "outputs": [],
   "source": [
    "df.columns = df.columns.str.lower().str.replace(' ', '_')"
   ]
  },
  {
   "cell_type": "code",
   "execution_count": 2063,
   "id": "a8f78870",
   "metadata": {},
   "outputs": [],
   "source": [
    "# df['number_of_doors'] = df['number_of_doors'].astype('str')"
   ]
  },
  {
   "cell_type": "code",
   "execution_count": 2064,
   "id": "637b9641",
   "metadata": {},
   "outputs": [],
   "source": [
    "categorical_baseline = list(df.dtypes[(df.dtypes == 'object') | (df.dtypes == 'datetime64[ns]')].index)\n",
    "numerical_baseline = list(df.dtypes[(df.dtypes != 'object') & (df.dtypes != 'datetime64[ns]')].index)\n",
    "numerical_baseline.remove('msrp')\n",
    "target = 'msrp'"
   ]
  },
  {
   "cell_type": "code",
   "execution_count": 2065,
   "id": "2a19621a",
   "metadata": {},
   "outputs": [
    {
     "name": "stderr",
     "output_type": "stream",
     "text": [
      "C:\\Users\\MARCOS\\anaconda3\\envs\\mlzoomcamp\\lib\\site-packages\\IPython\\core\\displayhook.py:275: UserWarning: Output cache limit (currently 1000 entries) hit.\n",
      "Flushing oldest 200 entries.\n",
      "  warn('Output cache limit (currently {sz} entries) hit.\\n'\n"
     ]
    },
    {
     "data": {
      "text/plain": [
       "['make',\n",
       " 'model',\n",
       " 'engine_fuel_type',\n",
       " 'transmission_type',\n",
       " 'driven_wheels',\n",
       " 'market_category',\n",
       " 'vehicle_size',\n",
       " 'vehicle_style']"
      ]
     },
     "execution_count": 2065,
     "metadata": {},
     "output_type": "execute_result"
    }
   ],
   "source": [
    "categorical_baseline"
   ]
  },
  {
   "cell_type": "code",
   "execution_count": 2066,
   "id": "f330925c",
   "metadata": {},
   "outputs": [
    {
     "data": {
      "text/plain": [
       "['year',\n",
       " 'engine_hp',\n",
       " 'engine_cylinders',\n",
       " 'number_of_doors',\n",
       " 'highway_mpg',\n",
       " 'city_mpg',\n",
       " 'popularity']"
      ]
     },
     "execution_count": 2066,
     "metadata": {},
     "output_type": "execute_result"
    }
   ],
   "source": [
    "numerical_baseline"
   ]
  },
  {
   "cell_type": "code",
   "execution_count": 2067,
   "id": "c69ab16c",
   "metadata": {},
   "outputs": [],
   "source": [
    "for category in categorical:\n",
    "    df[category] = df[category].str.lower().str.replace(' ', '_')"
   ]
  },
  {
   "cell_type": "code",
   "execution_count": 2068,
   "id": "6598efe8",
   "metadata": {},
   "outputs": [
    {
     "data": {
      "text/html": [
       "<div>\n",
       "<style scoped>\n",
       "    .dataframe tbody tr th:only-of-type {\n",
       "        vertical-align: middle;\n",
       "    }\n",
       "\n",
       "    .dataframe tbody tr th {\n",
       "        vertical-align: top;\n",
       "    }\n",
       "\n",
       "    .dataframe thead th {\n",
       "        text-align: right;\n",
       "    }\n",
       "</style>\n",
       "<table border=\"1\" class=\"dataframe\">\n",
       "  <thead>\n",
       "    <tr style=\"text-align: right;\">\n",
       "      <th></th>\n",
       "      <th>make</th>\n",
       "      <th>model</th>\n",
       "      <th>year</th>\n",
       "      <th>engine_fuel_type</th>\n",
       "      <th>engine_hp</th>\n",
       "      <th>engine_cylinders</th>\n",
       "      <th>transmission_type</th>\n",
       "      <th>driven_wheels</th>\n",
       "      <th>number_of_doors</th>\n",
       "      <th>market_category</th>\n",
       "      <th>vehicle_size</th>\n",
       "      <th>vehicle_style</th>\n",
       "      <th>highway_mpg</th>\n",
       "      <th>city_mpg</th>\n",
       "      <th>popularity</th>\n",
       "      <th>msrp</th>\n",
       "    </tr>\n",
       "  </thead>\n",
       "  <tbody>\n",
       "    <tr>\n",
       "      <th>0</th>\n",
       "      <td>bmw</td>\n",
       "      <td>1_series_m</td>\n",
       "      <td>2011</td>\n",
       "      <td>premium_unleaded_(required)</td>\n",
       "      <td>335.0</td>\n",
       "      <td>6.0</td>\n",
       "      <td>manual</td>\n",
       "      <td>rear_wheel_drive</td>\n",
       "      <td>2.0</td>\n",
       "      <td>factory_tuner,luxury,high-performance</td>\n",
       "      <td>compact</td>\n",
       "      <td>coupe</td>\n",
       "      <td>26</td>\n",
       "      <td>19</td>\n",
       "      <td>3916</td>\n",
       "      <td>46135</td>\n",
       "    </tr>\n",
       "    <tr>\n",
       "      <th>1</th>\n",
       "      <td>bmw</td>\n",
       "      <td>1_series</td>\n",
       "      <td>2011</td>\n",
       "      <td>premium_unleaded_(required)</td>\n",
       "      <td>300.0</td>\n",
       "      <td>6.0</td>\n",
       "      <td>manual</td>\n",
       "      <td>rear_wheel_drive</td>\n",
       "      <td>2.0</td>\n",
       "      <td>luxury,performance</td>\n",
       "      <td>compact</td>\n",
       "      <td>convertible</td>\n",
       "      <td>28</td>\n",
       "      <td>19</td>\n",
       "      <td>3916</td>\n",
       "      <td>40650</td>\n",
       "    </tr>\n",
       "    <tr>\n",
       "      <th>2</th>\n",
       "      <td>bmw</td>\n",
       "      <td>1_series</td>\n",
       "      <td>2011</td>\n",
       "      <td>premium_unleaded_(required)</td>\n",
       "      <td>300.0</td>\n",
       "      <td>6.0</td>\n",
       "      <td>manual</td>\n",
       "      <td>rear_wheel_drive</td>\n",
       "      <td>2.0</td>\n",
       "      <td>luxury,high-performance</td>\n",
       "      <td>compact</td>\n",
       "      <td>coupe</td>\n",
       "      <td>28</td>\n",
       "      <td>20</td>\n",
       "      <td>3916</td>\n",
       "      <td>36350</td>\n",
       "    </tr>\n",
       "    <tr>\n",
       "      <th>3</th>\n",
       "      <td>bmw</td>\n",
       "      <td>1_series</td>\n",
       "      <td>2011</td>\n",
       "      <td>premium_unleaded_(required)</td>\n",
       "      <td>230.0</td>\n",
       "      <td>6.0</td>\n",
       "      <td>manual</td>\n",
       "      <td>rear_wheel_drive</td>\n",
       "      <td>2.0</td>\n",
       "      <td>luxury,performance</td>\n",
       "      <td>compact</td>\n",
       "      <td>coupe</td>\n",
       "      <td>28</td>\n",
       "      <td>18</td>\n",
       "      <td>3916</td>\n",
       "      <td>29450</td>\n",
       "    </tr>\n",
       "    <tr>\n",
       "      <th>4</th>\n",
       "      <td>bmw</td>\n",
       "      <td>1_series</td>\n",
       "      <td>2011</td>\n",
       "      <td>premium_unleaded_(required)</td>\n",
       "      <td>230.0</td>\n",
       "      <td>6.0</td>\n",
       "      <td>manual</td>\n",
       "      <td>rear_wheel_drive</td>\n",
       "      <td>2.0</td>\n",
       "      <td>luxury</td>\n",
       "      <td>compact</td>\n",
       "      <td>convertible</td>\n",
       "      <td>28</td>\n",
       "      <td>18</td>\n",
       "      <td>3916</td>\n",
       "      <td>34500</td>\n",
       "    </tr>\n",
       "  </tbody>\n",
       "</table>\n",
       "</div>"
      ],
      "text/plain": [
       "  make       model  year             engine_fuel_type  engine_hp  \\\n",
       "0  bmw  1_series_m  2011  premium_unleaded_(required)      335.0   \n",
       "1  bmw    1_series  2011  premium_unleaded_(required)      300.0   \n",
       "2  bmw    1_series  2011  premium_unleaded_(required)      300.0   \n",
       "3  bmw    1_series  2011  premium_unleaded_(required)      230.0   \n",
       "4  bmw    1_series  2011  premium_unleaded_(required)      230.0   \n",
       "\n",
       "   engine_cylinders transmission_type     driven_wheels  number_of_doors  \\\n",
       "0               6.0            manual  rear_wheel_drive              2.0   \n",
       "1               6.0            manual  rear_wheel_drive              2.0   \n",
       "2               6.0            manual  rear_wheel_drive              2.0   \n",
       "3               6.0            manual  rear_wheel_drive              2.0   \n",
       "4               6.0            manual  rear_wheel_drive              2.0   \n",
       "\n",
       "                         market_category vehicle_size vehicle_style  \\\n",
       "0  factory_tuner,luxury,high-performance      compact         coupe   \n",
       "1                     luxury,performance      compact   convertible   \n",
       "2                luxury,high-performance      compact         coupe   \n",
       "3                     luxury,performance      compact         coupe   \n",
       "4                                 luxury      compact   convertible   \n",
       "\n",
       "   highway_mpg  city_mpg  popularity   msrp  \n",
       "0           26        19        3916  46135  \n",
       "1           28        19        3916  40650  \n",
       "2           28        20        3916  36350  \n",
       "3           28        18        3916  29450  \n",
       "4           28        18        3916  34500  "
      ]
     },
     "execution_count": 2068,
     "metadata": {},
     "output_type": "execute_result"
    }
   ],
   "source": [
    "df.head()"
   ]
  },
  {
   "cell_type": "markdown",
   "id": "8e765ef5",
   "metadata": {},
   "source": [
    "# EDA"
   ]
  },
  {
   "cell_type": "markdown",
   "id": "172e670c",
   "metadata": {},
   "source": [
    "df.head()  \n",
    "df.describe()  \n",
    "df.describe(include='object') for categorical  \n",
    "\n",
    "Then, for each column  \n",
    "    df[col].unique()  \n",
    "    df[col].nunique()  \n",
    "    df.isnull().sum() isna is the same \n",
    "    \n",
    "For target: sns.hisplot()  \n",
    "    Fix long tail  \n",
    "Fix Nans  "
   ]
  },
  {
   "cell_type": "code",
   "execution_count": 2069,
   "id": "cd645e11",
   "metadata": {},
   "outputs": [
    {
     "data": {
      "text/html": [
       "<div>\n",
       "<style scoped>\n",
       "    .dataframe tbody tr th:only-of-type {\n",
       "        vertical-align: middle;\n",
       "    }\n",
       "\n",
       "    .dataframe tbody tr th {\n",
       "        vertical-align: top;\n",
       "    }\n",
       "\n",
       "    .dataframe thead th {\n",
       "        text-align: right;\n",
       "    }\n",
       "</style>\n",
       "<table border=\"1\" class=\"dataframe\">\n",
       "  <thead>\n",
       "    <tr style=\"text-align: right;\">\n",
       "      <th></th>\n",
       "      <th>make</th>\n",
       "      <th>model</th>\n",
       "      <th>year</th>\n",
       "      <th>engine_fuel_type</th>\n",
       "      <th>engine_hp</th>\n",
       "      <th>engine_cylinders</th>\n",
       "      <th>transmission_type</th>\n",
       "      <th>driven_wheels</th>\n",
       "      <th>number_of_doors</th>\n",
       "      <th>market_category</th>\n",
       "      <th>vehicle_size</th>\n",
       "      <th>vehicle_style</th>\n",
       "      <th>highway_mpg</th>\n",
       "      <th>city_mpg</th>\n",
       "      <th>popularity</th>\n",
       "      <th>msrp</th>\n",
       "    </tr>\n",
       "  </thead>\n",
       "  <tbody>\n",
       "    <tr>\n",
       "      <th>0</th>\n",
       "      <td>bmw</td>\n",
       "      <td>1_series_m</td>\n",
       "      <td>2011</td>\n",
       "      <td>premium_unleaded_(required)</td>\n",
       "      <td>335.0</td>\n",
       "      <td>6.0</td>\n",
       "      <td>manual</td>\n",
       "      <td>rear_wheel_drive</td>\n",
       "      <td>2.0</td>\n",
       "      <td>factory_tuner,luxury,high-performance</td>\n",
       "      <td>compact</td>\n",
       "      <td>coupe</td>\n",
       "      <td>26</td>\n",
       "      <td>19</td>\n",
       "      <td>3916</td>\n",
       "      <td>46135</td>\n",
       "    </tr>\n",
       "    <tr>\n",
       "      <th>1</th>\n",
       "      <td>bmw</td>\n",
       "      <td>1_series</td>\n",
       "      <td>2011</td>\n",
       "      <td>premium_unleaded_(required)</td>\n",
       "      <td>300.0</td>\n",
       "      <td>6.0</td>\n",
       "      <td>manual</td>\n",
       "      <td>rear_wheel_drive</td>\n",
       "      <td>2.0</td>\n",
       "      <td>luxury,performance</td>\n",
       "      <td>compact</td>\n",
       "      <td>convertible</td>\n",
       "      <td>28</td>\n",
       "      <td>19</td>\n",
       "      <td>3916</td>\n",
       "      <td>40650</td>\n",
       "    </tr>\n",
       "    <tr>\n",
       "      <th>2</th>\n",
       "      <td>bmw</td>\n",
       "      <td>1_series</td>\n",
       "      <td>2011</td>\n",
       "      <td>premium_unleaded_(required)</td>\n",
       "      <td>300.0</td>\n",
       "      <td>6.0</td>\n",
       "      <td>manual</td>\n",
       "      <td>rear_wheel_drive</td>\n",
       "      <td>2.0</td>\n",
       "      <td>luxury,high-performance</td>\n",
       "      <td>compact</td>\n",
       "      <td>coupe</td>\n",
       "      <td>28</td>\n",
       "      <td>20</td>\n",
       "      <td>3916</td>\n",
       "      <td>36350</td>\n",
       "    </tr>\n",
       "    <tr>\n",
       "      <th>3</th>\n",
       "      <td>bmw</td>\n",
       "      <td>1_series</td>\n",
       "      <td>2011</td>\n",
       "      <td>premium_unleaded_(required)</td>\n",
       "      <td>230.0</td>\n",
       "      <td>6.0</td>\n",
       "      <td>manual</td>\n",
       "      <td>rear_wheel_drive</td>\n",
       "      <td>2.0</td>\n",
       "      <td>luxury,performance</td>\n",
       "      <td>compact</td>\n",
       "      <td>coupe</td>\n",
       "      <td>28</td>\n",
       "      <td>18</td>\n",
       "      <td>3916</td>\n",
       "      <td>29450</td>\n",
       "    </tr>\n",
       "    <tr>\n",
       "      <th>4</th>\n",
       "      <td>bmw</td>\n",
       "      <td>1_series</td>\n",
       "      <td>2011</td>\n",
       "      <td>premium_unleaded_(required)</td>\n",
       "      <td>230.0</td>\n",
       "      <td>6.0</td>\n",
       "      <td>manual</td>\n",
       "      <td>rear_wheel_drive</td>\n",
       "      <td>2.0</td>\n",
       "      <td>luxury</td>\n",
       "      <td>compact</td>\n",
       "      <td>convertible</td>\n",
       "      <td>28</td>\n",
       "      <td>18</td>\n",
       "      <td>3916</td>\n",
       "      <td>34500</td>\n",
       "    </tr>\n",
       "  </tbody>\n",
       "</table>\n",
       "</div>"
      ],
      "text/plain": [
       "  make       model  year             engine_fuel_type  engine_hp  \\\n",
       "0  bmw  1_series_m  2011  premium_unleaded_(required)      335.0   \n",
       "1  bmw    1_series  2011  premium_unleaded_(required)      300.0   \n",
       "2  bmw    1_series  2011  premium_unleaded_(required)      300.0   \n",
       "3  bmw    1_series  2011  premium_unleaded_(required)      230.0   \n",
       "4  bmw    1_series  2011  premium_unleaded_(required)      230.0   \n",
       "\n",
       "   engine_cylinders transmission_type     driven_wheels  number_of_doors  \\\n",
       "0               6.0            manual  rear_wheel_drive              2.0   \n",
       "1               6.0            manual  rear_wheel_drive              2.0   \n",
       "2               6.0            manual  rear_wheel_drive              2.0   \n",
       "3               6.0            manual  rear_wheel_drive              2.0   \n",
       "4               6.0            manual  rear_wheel_drive              2.0   \n",
       "\n",
       "                         market_category vehicle_size vehicle_style  \\\n",
       "0  factory_tuner,luxury,high-performance      compact         coupe   \n",
       "1                     luxury,performance      compact   convertible   \n",
       "2                luxury,high-performance      compact         coupe   \n",
       "3                     luxury,performance      compact         coupe   \n",
       "4                                 luxury      compact   convertible   \n",
       "\n",
       "   highway_mpg  city_mpg  popularity   msrp  \n",
       "0           26        19        3916  46135  \n",
       "1           28        19        3916  40650  \n",
       "2           28        20        3916  36350  \n",
       "3           28        18        3916  29450  \n",
       "4           28        18        3916  34500  "
      ]
     },
     "execution_count": 2069,
     "metadata": {},
     "output_type": "execute_result"
    }
   ],
   "source": [
    "df.head()"
   ]
  },
  {
   "cell_type": "code",
   "execution_count": 2070,
   "id": "4f0aca92",
   "metadata": {},
   "outputs": [
    {
     "data": {
      "text/html": [
       "<div>\n",
       "<style scoped>\n",
       "    .dataframe tbody tr th:only-of-type {\n",
       "        vertical-align: middle;\n",
       "    }\n",
       "\n",
       "    .dataframe tbody tr th {\n",
       "        vertical-align: top;\n",
       "    }\n",
       "\n",
       "    .dataframe thead th {\n",
       "        text-align: right;\n",
       "    }\n",
       "</style>\n",
       "<table border=\"1\" class=\"dataframe\">\n",
       "  <thead>\n",
       "    <tr style=\"text-align: right;\">\n",
       "      <th></th>\n",
       "      <th>year</th>\n",
       "      <th>engine_hp</th>\n",
       "      <th>engine_cylinders</th>\n",
       "      <th>number_of_doors</th>\n",
       "      <th>highway_mpg</th>\n",
       "      <th>city_mpg</th>\n",
       "      <th>popularity</th>\n",
       "      <th>msrp</th>\n",
       "    </tr>\n",
       "  </thead>\n",
       "  <tbody>\n",
       "    <tr>\n",
       "      <th>count</th>\n",
       "      <td>11914.00</td>\n",
       "      <td>11845.00</td>\n",
       "      <td>11884.00</td>\n",
       "      <td>11908.00</td>\n",
       "      <td>11914.00</td>\n",
       "      <td>11914.00</td>\n",
       "      <td>11914.00</td>\n",
       "      <td>11914.00</td>\n",
       "    </tr>\n",
       "    <tr>\n",
       "      <th>mean</th>\n",
       "      <td>2010.38</td>\n",
       "      <td>249.39</td>\n",
       "      <td>5.63</td>\n",
       "      <td>3.44</td>\n",
       "      <td>26.64</td>\n",
       "      <td>19.73</td>\n",
       "      <td>1554.91</td>\n",
       "      <td>40594.74</td>\n",
       "    </tr>\n",
       "    <tr>\n",
       "      <th>std</th>\n",
       "      <td>7.58</td>\n",
       "      <td>109.19</td>\n",
       "      <td>1.78</td>\n",
       "      <td>0.88</td>\n",
       "      <td>8.86</td>\n",
       "      <td>8.99</td>\n",
       "      <td>1441.86</td>\n",
       "      <td>60109.10</td>\n",
       "    </tr>\n",
       "    <tr>\n",
       "      <th>min</th>\n",
       "      <td>1990.00</td>\n",
       "      <td>55.00</td>\n",
       "      <td>0.00</td>\n",
       "      <td>2.00</td>\n",
       "      <td>12.00</td>\n",
       "      <td>7.00</td>\n",
       "      <td>2.00</td>\n",
       "      <td>2000.00</td>\n",
       "    </tr>\n",
       "    <tr>\n",
       "      <th>25%</th>\n",
       "      <td>2007.00</td>\n",
       "      <td>170.00</td>\n",
       "      <td>4.00</td>\n",
       "      <td>2.00</td>\n",
       "      <td>22.00</td>\n",
       "      <td>16.00</td>\n",
       "      <td>549.00</td>\n",
       "      <td>21000.00</td>\n",
       "    </tr>\n",
       "    <tr>\n",
       "      <th>50%</th>\n",
       "      <td>2015.00</td>\n",
       "      <td>227.00</td>\n",
       "      <td>6.00</td>\n",
       "      <td>4.00</td>\n",
       "      <td>26.00</td>\n",
       "      <td>18.00</td>\n",
       "      <td>1385.00</td>\n",
       "      <td>29995.00</td>\n",
       "    </tr>\n",
       "    <tr>\n",
       "      <th>75%</th>\n",
       "      <td>2016.00</td>\n",
       "      <td>300.00</td>\n",
       "      <td>6.00</td>\n",
       "      <td>4.00</td>\n",
       "      <td>30.00</td>\n",
       "      <td>22.00</td>\n",
       "      <td>2009.00</td>\n",
       "      <td>42231.25</td>\n",
       "    </tr>\n",
       "    <tr>\n",
       "      <th>max</th>\n",
       "      <td>2017.00</td>\n",
       "      <td>1001.00</td>\n",
       "      <td>16.00</td>\n",
       "      <td>4.00</td>\n",
       "      <td>354.00</td>\n",
       "      <td>137.00</td>\n",
       "      <td>5657.00</td>\n",
       "      <td>2065902.00</td>\n",
       "    </tr>\n",
       "  </tbody>\n",
       "</table>\n",
       "</div>"
      ],
      "text/plain": [
       "           year  engine_hp  engine_cylinders  number_of_doors  highway_mpg  \\\n",
       "count  11914.00   11845.00          11884.00         11908.00     11914.00   \n",
       "mean    2010.38     249.39              5.63             3.44        26.64   \n",
       "std        7.58     109.19              1.78             0.88         8.86   \n",
       "min     1990.00      55.00              0.00             2.00        12.00   \n",
       "25%     2007.00     170.00              4.00             2.00        22.00   \n",
       "50%     2015.00     227.00              6.00             4.00        26.00   \n",
       "75%     2016.00     300.00              6.00             4.00        30.00   \n",
       "max     2017.00    1001.00             16.00             4.00       354.00   \n",
       "\n",
       "       city_mpg  popularity        msrp  \n",
       "count  11914.00    11914.00    11914.00  \n",
       "mean      19.73     1554.91    40594.74  \n",
       "std        8.99     1441.86    60109.10  \n",
       "min        7.00        2.00     2000.00  \n",
       "25%       16.00      549.00    21000.00  \n",
       "50%       18.00     1385.00    29995.00  \n",
       "75%       22.00     2009.00    42231.25  \n",
       "max      137.00     5657.00  2065902.00  "
      ]
     },
     "execution_count": 2070,
     "metadata": {},
     "output_type": "execute_result"
    }
   ],
   "source": [
    "df.describe().round(2)"
   ]
  },
  {
   "cell_type": "code",
   "execution_count": 2071,
   "id": "2972e9bf",
   "metadata": {},
   "outputs": [
    {
     "data": {
      "text/html": [
       "<div>\n",
       "<style scoped>\n",
       "    .dataframe tbody tr th:only-of-type {\n",
       "        vertical-align: middle;\n",
       "    }\n",
       "\n",
       "    .dataframe tbody tr th {\n",
       "        vertical-align: top;\n",
       "    }\n",
       "\n",
       "    .dataframe thead th {\n",
       "        text-align: right;\n",
       "    }\n",
       "</style>\n",
       "<table border=\"1\" class=\"dataframe\">\n",
       "  <thead>\n",
       "    <tr style=\"text-align: right;\">\n",
       "      <th></th>\n",
       "      <th>make</th>\n",
       "      <th>model</th>\n",
       "      <th>engine_fuel_type</th>\n",
       "      <th>transmission_type</th>\n",
       "      <th>driven_wheels</th>\n",
       "      <th>market_category</th>\n",
       "      <th>vehicle_size</th>\n",
       "      <th>vehicle_style</th>\n",
       "    </tr>\n",
       "  </thead>\n",
       "  <tbody>\n",
       "    <tr>\n",
       "      <th>count</th>\n",
       "      <td>11914</td>\n",
       "      <td>11914</td>\n",
       "      <td>11911</td>\n",
       "      <td>11914</td>\n",
       "      <td>11914</td>\n",
       "      <td>8172</td>\n",
       "      <td>11914</td>\n",
       "      <td>11914</td>\n",
       "    </tr>\n",
       "    <tr>\n",
       "      <th>unique</th>\n",
       "      <td>48</td>\n",
       "      <td>914</td>\n",
       "      <td>10</td>\n",
       "      <td>5</td>\n",
       "      <td>4</td>\n",
       "      <td>71</td>\n",
       "      <td>3</td>\n",
       "      <td>16</td>\n",
       "    </tr>\n",
       "    <tr>\n",
       "      <th>top</th>\n",
       "      <td>chevrolet</td>\n",
       "      <td>silverado_1500</td>\n",
       "      <td>regular_unleaded</td>\n",
       "      <td>automatic</td>\n",
       "      <td>front_wheel_drive</td>\n",
       "      <td>crossover</td>\n",
       "      <td>compact</td>\n",
       "      <td>sedan</td>\n",
       "    </tr>\n",
       "    <tr>\n",
       "      <th>freq</th>\n",
       "      <td>1123</td>\n",
       "      <td>156</td>\n",
       "      <td>7172</td>\n",
       "      <td>8266</td>\n",
       "      <td>4787</td>\n",
       "      <td>1110</td>\n",
       "      <td>4764</td>\n",
       "      <td>3048</td>\n",
       "    </tr>\n",
       "  </tbody>\n",
       "</table>\n",
       "</div>"
      ],
      "text/plain": [
       "             make           model  engine_fuel_type transmission_type  \\\n",
       "count       11914           11914             11911             11914   \n",
       "unique         48             914                10                 5   \n",
       "top     chevrolet  silverado_1500  regular_unleaded         automatic   \n",
       "freq         1123             156              7172              8266   \n",
       "\n",
       "            driven_wheels market_category vehicle_size vehicle_style  \n",
       "count               11914            8172        11914         11914  \n",
       "unique                  4              71            3            16  \n",
       "top     front_wheel_drive       crossover      compact         sedan  \n",
       "freq                 4787            1110         4764          3048  "
      ]
     },
     "execution_count": 2071,
     "metadata": {},
     "output_type": "execute_result"
    }
   ],
   "source": [
    "df.describe(include='object')"
   ]
  },
  {
   "cell_type": "code",
   "execution_count": 2072,
   "id": "9c221765",
   "metadata": {},
   "outputs": [
    {
     "data": {
      "text/plain": [
       "make                    0\n",
       "model                   0\n",
       "year                    0\n",
       "engine_fuel_type        3\n",
       "engine_hp              69\n",
       "engine_cylinders       30\n",
       "transmission_type       0\n",
       "driven_wheels           0\n",
       "number_of_doors         6\n",
       "market_category      3742\n",
       "vehicle_size            0\n",
       "vehicle_style           0\n",
       "highway_mpg             0\n",
       "city_mpg                0\n",
       "popularity              0\n",
       "msrp                    0\n",
       "dtype: int64"
      ]
     },
     "execution_count": 2072,
     "metadata": {},
     "output_type": "execute_result"
    }
   ],
   "source": [
    "df.isnull().sum()"
   ]
  },
  {
   "cell_type": "code",
   "execution_count": 2073,
   "id": "e40da3d6",
   "metadata": {},
   "outputs": [
    {
     "name": "stdout",
     "output_type": "stream",
     "text": [
      "make\n",
      "num of uniques: 48\n",
      "first 10 uniques: ['bmw' 'audi' 'fiat' 'mercedes-benz' 'chrysler' 'nissan' 'volvo' 'mazda'\n",
      " 'mitsubishi' 'ferrari']\n",
      "number of nans: 0\n",
      "\n",
      "model\n",
      "num of uniques: 914\n",
      "first 10 uniques: ['1_series_m' '1_series' '100' '124_spider' '190-class' '2_series' '200'\n",
      " '200sx' '240sx' '240']\n",
      "number of nans: 0\n",
      "\n",
      "year\n",
      "num of uniques: 28\n",
      "first 10 uniques: [2011 2012 2013 1992 1993 1994 2017 1991 2016 1990]\n",
      "number of nans: 0\n",
      "\n",
      "engine_fuel_type\n",
      "num of uniques: 10\n",
      "first 10 uniques: ['premium_unleaded_(required)' 'regular_unleaded'\n",
      " 'premium_unleaded_(recommended)' 'flex-fuel_(unleaded/e85)' 'diesel'\n",
      " 'electric' 'flex-fuel_(premium_unleaded_recommended/e85)' 'natural_gas'\n",
      " 'flex-fuel_(premium_unleaded_required/e85)'\n",
      " 'flex-fuel_(unleaded/natural_gas)']\n",
      "number of nans: 3\n",
      "\n",
      "engine_hp\n",
      "num of uniques: 356\n",
      "first 10 uniques: [335. 300. 230. 320. 172. 160. 130. 158. 240. 248.]\n",
      "number of nans: 69\n",
      "\n",
      "engine_cylinders\n",
      "num of uniques: 9\n",
      "first 10 uniques: [ 6.  4.  5.  8. 12.  0. nan 10.  3. 16.]\n",
      "number of nans: 30\n",
      "\n",
      "transmission_type\n",
      "num of uniques: 5\n",
      "first 10 uniques: ['manual' 'automatic' 'automated_manual' 'direct_drive' 'unknown']\n",
      "number of nans: 0\n",
      "\n",
      "driven_wheels\n",
      "num of uniques: 4\n",
      "first 10 uniques: ['rear_wheel_drive' 'front_wheel_drive' 'all_wheel_drive'\n",
      " 'four_wheel_drive']\n",
      "number of nans: 0\n",
      "\n",
      "number_of_doors\n",
      "num of uniques: 3\n",
      "first 10 uniques: [ 2.  4.  3. nan]\n",
      "number of nans: 6\n",
      "\n",
      "market_category\n",
      "num of uniques: 71\n",
      "first 10 uniques: ['factory_tuner,luxury,high-performance' 'luxury,performance'\n",
      " 'luxury,high-performance' 'luxury' 'performance' 'flex_fuel'\n",
      " 'flex_fuel,performance' nan 'hatchback' 'hatchback,luxury,performance']\n",
      "number of nans: 3742\n",
      "\n",
      "vehicle_size\n",
      "num of uniques: 3\n",
      "first 10 uniques: ['compact' 'midsize' 'large']\n",
      "number of nans: 0\n",
      "\n",
      "vehicle_style\n",
      "num of uniques: 16\n",
      "first 10 uniques: ['coupe' 'convertible' 'sedan' 'wagon' '4dr_hatchback' '2dr_hatchback'\n",
      " '4dr_suv' 'passenger_minivan' 'cargo_minivan' 'crew_cab_pickup']\n",
      "number of nans: 0\n",
      "\n",
      "highway_mpg\n",
      "num of uniques: 59\n",
      "first 10 uniques: [26 28 27 25 24 20 21 22 35 34]\n",
      "number of nans: 0\n",
      "\n",
      "city_mpg\n",
      "num of uniques: 69\n",
      "first 10 uniques: [19 20 18 17 16 26 23 22 21 24]\n",
      "number of nans: 0\n",
      "\n",
      "popularity\n",
      "num of uniques: 48\n",
      "first 10 uniques: [3916 3105  819  617 1013 2009  870  586  436 2774]\n",
      "number of nans: 0\n",
      "\n",
      "msrp\n",
      "num of uniques: 6049\n",
      "first 10 uniques: [46135 40650 36350 29450 34500 31200 44100 39300 36900 37200]\n",
      "number of nans: 0\n",
      "\n"
     ]
    }
   ],
   "source": [
    "for column in df.columns:\n",
    "    print(column)\n",
    "    print(f'num of uniques: {df[column].nunique()}')\n",
    "    print(f'first 10 uniques: {df[column].unique()[0:10]}')\n",
    "    print(f'number of nans: {df[column].isna().sum()}')\n",
    "    print()"
   ]
  },
  {
   "cell_type": "markdown",
   "id": "5968da9c",
   "metadata": {},
   "source": [
    "Check distribution of target. bin = \"number of bars\". It is a long tail distribution. Peak on 1K likely that that is the minimum amount in the platform"
   ]
  },
  {
   "cell_type": "code",
   "execution_count": 2074,
   "id": "c12434ed",
   "metadata": {},
   "outputs": [
    {
     "data": {
      "text/plain": [
       "<AxesSubplot:xlabel='msrp', ylabel='Count'>"
      ]
     },
     "execution_count": 2074,
     "metadata": {},
     "output_type": "execute_result"
    },
    {
     "data": {
      "image/png": "[encoded data removed]",
      "text/plain": [
       "<Figure size 640x480 with 1 Axes>"
      ]
     },
     "metadata": {},
     "output_type": "display_data"
    }
   ],
   "source": [
    "sns.histplot(df[target], bins=50)"
   ]
  },
  {
   "cell_type": "code",
   "execution_count": 2075,
   "id": "632287ea",
   "metadata": {},
   "outputs": [
    {
     "data": {
      "text/plain": [
       "<AxesSubplot:xlabel='msrp', ylabel='Count'>"
      ]
     },
     "execution_count": 2075,
     "metadata": {},
     "output_type": "execute_result"
    },
    {
     "data": {
      "image/png": "[encoded data removed]",
      "text/plain": [
       "<Figure size 640x480 with 1 Axes>"
      ]
     },
     "metadata": {},
     "output_type": "display_data"
    }
   ],
   "source": [
    "sns.histplot(df[target][df[target] < 100000], bins=50)"
   ]
  },
  {
   "cell_type": "markdown",
   "id": "9f128ef4",
   "metadata": {},
   "source": [
    "Get rid of the long tail. Use log. This will be done in the preprocess data section"
   ]
  },
  {
   "cell_type": "code",
   "execution_count": 2076,
   "id": "fb10ccce",
   "metadata": {},
   "outputs": [],
   "source": [
    "price_logs = np.log1p(df[target])"
   ]
  },
  {
   "cell_type": "code",
   "execution_count": 2077,
   "id": "002364fe",
   "metadata": {},
   "outputs": [
    {
     "data": {
      "text/plain": [
       "<AxesSubplot:xlabel='msrp', ylabel='Count'>"
      ]
     },
     "execution_count": 2077,
     "metadata": {},
     "output_type": "execute_result"
    },
    {
     "data": {
      "image/png": "[encoded data removed]",
      "text/plain": [
       "<Figure size 640x480 with 1 Axes>"
      ]
     },
     "metadata": {},
     "output_type": "display_data"
    }
   ],
   "source": [
    "sns.histplot(price_logs, bins=50)"
   ]
  },
  {
   "cell_type": "markdown",
   "id": "0c17deb7",
   "metadata": {},
   "source": [
    "# Preprocess data\n"
   ]
  },
  {
   "cell_type": "markdown",
   "id": "7e4467b9",
   "metadata": {},
   "source": [
    "Log of target values and Nans to zeros (better option would use the mean)"
   ]
  },
  {
   "cell_type": "code",
   "execution_count": 2078,
   "id": "539646da",
   "metadata": {},
   "outputs": [],
   "source": [
    "features_baseline = numerical_baseline\n",
    "target = 'msrp'"
   ]
  },
  {
   "cell_type": "code",
   "execution_count": 2079,
   "id": "804fbfcc",
   "metadata": {},
   "outputs": [],
   "source": [
    "# df_target is actually a series.\n",
    "def preprocess_features(df, numerical, target):\n",
    "    df = df.copy()\n",
    "    df[numerical] = df[numerical].fillna(0)\n",
    "    df_target = np.log1p(df[target])\n",
    "    del(df[target])\n",
    "    return df[numerical], df_target"
   ]
  },
  {
   "cell_type": "code",
   "execution_count": 2080,
   "id": "2e7d61ee",
   "metadata": {},
   "outputs": [
    {
     "data": {
      "text/plain": [
       "['year',\n",
       " 'engine_hp',\n",
       " 'engine_cylinders',\n",
       " 'number_of_doors',\n",
       " 'highway_mpg',\n",
       " 'city_mpg',\n",
       " 'popularity']"
      ]
     },
     "execution_count": 2080,
     "metadata": {},
     "output_type": "execute_result"
    }
   ],
   "source": [
    "features_baseline"
   ]
  },
  {
   "cell_type": "markdown",
   "id": "f5cdd404",
   "metadata": {},
   "source": [
    "# Setup validation framework"
   ]
  },
  {
   "cell_type": "code",
   "execution_count": 2081,
   "id": "37c6ddc9",
   "metadata": {},
   "outputs": [],
   "source": [
    "np.random.seed(2)\n",
    "val_split = 0.2\n",
    "test_split = 0.2\n",
    "n = len(df)\n",
    "n_val = int(n * val_split)\n",
    "n_test = int(n * test_split)\n",
    "n_train = n - n_val - n_test\n",
    "n, n_train, n_val, n_test\n",
    "index = np.arange(n)\n",
    "np.random.shuffle(index)"
   ]
  },
  {
   "cell_type": "code",
   "execution_count": 2082,
   "id": "593671e2",
   "metadata": {},
   "outputs": [],
   "source": [
    "# reset_index: do not use inplace here. We want a new dataframe and keep dp"
   ]
  },
  {
   "cell_type": "code",
   "execution_count": 2083,
   "id": "3bd0b54c",
   "metadata": {},
   "outputs": [],
   "source": [
    "def train_val_test_split(df, index):\n",
    "\n",
    "    df_train = df.iloc[index[:n_train]].reset_index(drop=True)\n",
    "    df_val = df.iloc[index[n_train:n_train+n_val]].reset_index(drop=True)\n",
    "    df_test = df.iloc[index[n_train+n_val:]].reset_index(drop=True)\n",
    "    return df_train.values, df_val.values, df_test.values"
   ]
  },
  {
   "cell_type": "markdown",
   "id": "ac981355",
   "metadata": {},
   "source": [
    "Create y (np arrays)"
   ]
  },
  {
   "cell_type": "code",
   "execution_count": 2084,
   "id": "eeb59913",
   "metadata": {},
   "outputs": [
    {
     "data": {
      "text/html": [
       "<div>\n",
       "<style scoped>\n",
       "    .dataframe tbody tr th:only-of-type {\n",
       "        vertical-align: middle;\n",
       "    }\n",
       "\n",
       "    .dataframe tbody tr th {\n",
       "        vertical-align: top;\n",
       "    }\n",
       "\n",
       "    .dataframe thead th {\n",
       "        text-align: right;\n",
       "    }\n",
       "</style>\n",
       "<table border=\"1\" class=\"dataframe\">\n",
       "  <thead>\n",
       "    <tr style=\"text-align: right;\">\n",
       "      <th></th>\n",
       "      <th>year</th>\n",
       "      <th>engine_hp</th>\n",
       "      <th>engine_cylinders</th>\n",
       "      <th>number_of_doors</th>\n",
       "      <th>highway_mpg</th>\n",
       "      <th>city_mpg</th>\n",
       "      <th>popularity</th>\n",
       "    </tr>\n",
       "  </thead>\n",
       "  <tbody>\n",
       "    <tr>\n",
       "      <th>0</th>\n",
       "      <td>2015</td>\n",
       "      <td>185.0</td>\n",
       "      <td>4.0</td>\n",
       "      <td>4.0</td>\n",
       "      <td>34</td>\n",
       "      <td>27</td>\n",
       "      <td>2202</td>\n",
       "    </tr>\n",
       "    <tr>\n",
       "      <th>1</th>\n",
       "      <td>1991</td>\n",
       "      <td>162.0</td>\n",
       "      <td>5.0</td>\n",
       "      <td>4.0</td>\n",
       "      <td>20</td>\n",
       "      <td>16</td>\n",
       "      <td>3105</td>\n",
       "    </tr>\n",
       "    <tr>\n",
       "      <th>2</th>\n",
       "      <td>2006</td>\n",
       "      <td>203.0</td>\n",
       "      <td>6.0</td>\n",
       "      <td>4.0</td>\n",
       "      <td>25</td>\n",
       "      <td>18</td>\n",
       "      <td>5657</td>\n",
       "    </tr>\n",
       "    <tr>\n",
       "      <th>3</th>\n",
       "      <td>2015</td>\n",
       "      <td>268.0</td>\n",
       "      <td>4.0</td>\n",
       "      <td>4.0</td>\n",
       "      <td>25</td>\n",
       "      <td>19</td>\n",
       "      <td>640</td>\n",
       "    </tr>\n",
       "    <tr>\n",
       "      <th>4</th>\n",
       "      <td>2016</td>\n",
       "      <td>131.0</td>\n",
       "      <td>4.0</td>\n",
       "      <td>4.0</td>\n",
       "      <td>26</td>\n",
       "      <td>24</td>\n",
       "      <td>2009</td>\n",
       "    </tr>\n",
       "    <tr>\n",
       "      <th>...</th>\n",
       "      <td>...</td>\n",
       "      <td>...</td>\n",
       "      <td>...</td>\n",
       "      <td>...</td>\n",
       "      <td>...</td>\n",
       "      <td>...</td>\n",
       "      <td>...</td>\n",
       "    </tr>\n",
       "    <tr>\n",
       "      <th>7145</th>\n",
       "      <td>2014</td>\n",
       "      <td>560.0</td>\n",
       "      <td>10.0</td>\n",
       "      <td>2.0</td>\n",
       "      <td>20</td>\n",
       "      <td>13</td>\n",
       "      <td>1158</td>\n",
       "    </tr>\n",
       "    <tr>\n",
       "      <th>7146</th>\n",
       "      <td>2016</td>\n",
       "      <td>170.0</td>\n",
       "      <td>4.0</td>\n",
       "      <td>4.0</td>\n",
       "      <td>36</td>\n",
       "      <td>25</td>\n",
       "      <td>873</td>\n",
       "    </tr>\n",
       "    <tr>\n",
       "      <th>7147</th>\n",
       "      <td>2001</td>\n",
       "      <td>170.0</td>\n",
       "      <td>4.0</td>\n",
       "      <td>2.0</td>\n",
       "      <td>28</td>\n",
       "      <td>22</td>\n",
       "      <td>204</td>\n",
       "    </tr>\n",
       "    <tr>\n",
       "      <th>7148</th>\n",
       "      <td>2010</td>\n",
       "      <td>173.0</td>\n",
       "      <td>4.0</td>\n",
       "      <td>4.0</td>\n",
       "      <td>30</td>\n",
       "      <td>21</td>\n",
       "      <td>1013</td>\n",
       "    </tr>\n",
       "    <tr>\n",
       "      <th>7149</th>\n",
       "      <td>2001</td>\n",
       "      <td>322.0</td>\n",
       "      <td>12.0</td>\n",
       "      <td>4.0</td>\n",
       "      <td>15</td>\n",
       "      <td>11</td>\n",
       "      <td>86</td>\n",
       "    </tr>\n",
       "  </tbody>\n",
       "</table>\n",
       "<p>7150 rows × 7 columns</p>\n",
       "</div>"
      ],
      "text/plain": [
       "      year  engine_hp  engine_cylinders  number_of_doors  highway_mpg  \\\n",
       "0     2015      185.0               4.0              4.0           34   \n",
       "1     1991      162.0               5.0              4.0           20   \n",
       "2     2006      203.0               6.0              4.0           25   \n",
       "3     2015      268.0               4.0              4.0           25   \n",
       "4     2016      131.0               4.0              4.0           26   \n",
       "...    ...        ...               ...              ...          ...   \n",
       "7145  2014      560.0              10.0              2.0           20   \n",
       "7146  2016      170.0               4.0              4.0           36   \n",
       "7147  2001      170.0               4.0              2.0           28   \n",
       "7148  2010      173.0               4.0              4.0           30   \n",
       "7149  2001      322.0              12.0              4.0           15   \n",
       "\n",
       "      city_mpg  popularity  \n",
       "0           27        2202  \n",
       "1           16        3105  \n",
       "2           18        5657  \n",
       "3           19         640  \n",
       "4           24        2009  \n",
       "...        ...         ...  \n",
       "7145        13        1158  \n",
       "7146        25         873  \n",
       "7147        22         204  \n",
       "7148        21        1013  \n",
       "7149        11          86  \n",
       "\n",
       "[7150 rows x 7 columns]"
      ]
     },
     "execution_count": 2084,
     "metadata": {},
     "output_type": "execute_result"
    }
   ],
   "source": [
    "df_train"
   ]
  },
  {
   "cell_type": "markdown",
   "id": "3e9dc5e1",
   "metadata": {},
   "source": [
    "# Linear regression"
   ]
  },
  {
   "cell_type": "markdown",
   "id": "91222af0",
   "metadata": {},
   "source": [
    "X shall have x0=1"
   ]
  },
  {
   "cell_type": "markdown",
   "id": "48d9569f",
   "metadata": {},
   "source": [
    "w = (Xt X)^1 * Xt *y"
   ]
  },
  {
   "cell_type": "code",
   "execution_count": 2085,
   "id": "6d9b521d",
   "metadata": {},
   "outputs": [
    {
     "data": {
      "text/plain": [
       "['year',\n",
       " 'engine_hp',\n",
       " 'engine_cylinders',\n",
       " 'number_of_doors',\n",
       " 'highway_mpg',\n",
       " 'city_mpg',\n",
       " 'popularity']"
      ]
     },
     "execution_count": 2085,
     "metadata": {},
     "output_type": "execute_result"
    }
   ],
   "source": [
    "numerical_baseline"
   ]
  },
  {
   "cell_type": "code",
   "execution_count": 2086,
   "id": "4fde77e5",
   "metadata": {},
   "outputs": [],
   "source": [
    "df_features, df_target = preprocess_features(df, numerical_baseline, target)"
   ]
  },
  {
   "cell_type": "code",
   "execution_count": 2087,
   "id": "5eb5a857",
   "metadata": {},
   "outputs": [
    {
     "data": {
      "text/html": [
       "<div>\n",
       "<style scoped>\n",
       "    .dataframe tbody tr th:only-of-type {\n",
       "        vertical-align: middle;\n",
       "    }\n",
       "\n",
       "    .dataframe tbody tr th {\n",
       "        vertical-align: top;\n",
       "    }\n",
       "\n",
       "    .dataframe thead th {\n",
       "        text-align: right;\n",
       "    }\n",
       "</style>\n",
       "<table border=\"1\" class=\"dataframe\">\n",
       "  <thead>\n",
       "    <tr style=\"text-align: right;\">\n",
       "      <th></th>\n",
       "      <th>year</th>\n",
       "      <th>engine_hp</th>\n",
       "      <th>engine_cylinders</th>\n",
       "      <th>number_of_doors</th>\n",
       "      <th>highway_mpg</th>\n",
       "      <th>city_mpg</th>\n",
       "      <th>popularity</th>\n",
       "    </tr>\n",
       "  </thead>\n",
       "  <tbody>\n",
       "    <tr>\n",
       "      <th>0</th>\n",
       "      <td>2011</td>\n",
       "      <td>335.0</td>\n",
       "      <td>6.0</td>\n",
       "      <td>2.0</td>\n",
       "      <td>26</td>\n",
       "      <td>19</td>\n",
       "      <td>3916</td>\n",
       "    </tr>\n",
       "    <tr>\n",
       "      <th>1</th>\n",
       "      <td>2011</td>\n",
       "      <td>300.0</td>\n",
       "      <td>6.0</td>\n",
       "      <td>2.0</td>\n",
       "      <td>28</td>\n",
       "      <td>19</td>\n",
       "      <td>3916</td>\n",
       "    </tr>\n",
       "    <tr>\n",
       "      <th>2</th>\n",
       "      <td>2011</td>\n",
       "      <td>300.0</td>\n",
       "      <td>6.0</td>\n",
       "      <td>2.0</td>\n",
       "      <td>28</td>\n",
       "      <td>20</td>\n",
       "      <td>3916</td>\n",
       "    </tr>\n",
       "    <tr>\n",
       "      <th>3</th>\n",
       "      <td>2011</td>\n",
       "      <td>230.0</td>\n",
       "      <td>6.0</td>\n",
       "      <td>2.0</td>\n",
       "      <td>28</td>\n",
       "      <td>18</td>\n",
       "      <td>3916</td>\n",
       "    </tr>\n",
       "    <tr>\n",
       "      <th>4</th>\n",
       "      <td>2011</td>\n",
       "      <td>230.0</td>\n",
       "      <td>6.0</td>\n",
       "      <td>2.0</td>\n",
       "      <td>28</td>\n",
       "      <td>18</td>\n",
       "      <td>3916</td>\n",
       "    </tr>\n",
       "    <tr>\n",
       "      <th>...</th>\n",
       "      <td>...</td>\n",
       "      <td>...</td>\n",
       "      <td>...</td>\n",
       "      <td>...</td>\n",
       "      <td>...</td>\n",
       "      <td>...</td>\n",
       "      <td>...</td>\n",
       "    </tr>\n",
       "    <tr>\n",
       "      <th>11909</th>\n",
       "      <td>2012</td>\n",
       "      <td>300.0</td>\n",
       "      <td>6.0</td>\n",
       "      <td>4.0</td>\n",
       "      <td>23</td>\n",
       "      <td>16</td>\n",
       "      <td>204</td>\n",
       "    </tr>\n",
       "    <tr>\n",
       "      <th>11910</th>\n",
       "      <td>2012</td>\n",
       "      <td>300.0</td>\n",
       "      <td>6.0</td>\n",
       "      <td>4.0</td>\n",
       "      <td>23</td>\n",
       "      <td>16</td>\n",
       "      <td>204</td>\n",
       "    </tr>\n",
       "    <tr>\n",
       "      <th>11911</th>\n",
       "      <td>2012</td>\n",
       "      <td>300.0</td>\n",
       "      <td>6.0</td>\n",
       "      <td>4.0</td>\n",
       "      <td>23</td>\n",
       "      <td>16</td>\n",
       "      <td>204</td>\n",
       "    </tr>\n",
       "    <tr>\n",
       "      <th>11912</th>\n",
       "      <td>2013</td>\n",
       "      <td>300.0</td>\n",
       "      <td>6.0</td>\n",
       "      <td>4.0</td>\n",
       "      <td>23</td>\n",
       "      <td>16</td>\n",
       "      <td>204</td>\n",
       "    </tr>\n",
       "    <tr>\n",
       "      <th>11913</th>\n",
       "      <td>2006</td>\n",
       "      <td>221.0</td>\n",
       "      <td>6.0</td>\n",
       "      <td>4.0</td>\n",
       "      <td>26</td>\n",
       "      <td>17</td>\n",
       "      <td>61</td>\n",
       "    </tr>\n",
       "  </tbody>\n",
       "</table>\n",
       "<p>11914 rows × 7 columns</p>\n",
       "</div>"
      ],
      "text/plain": [
       "       year  engine_hp  engine_cylinders  number_of_doors  highway_mpg  \\\n",
       "0      2011      335.0               6.0              2.0           26   \n",
       "1      2011      300.0               6.0              2.0           28   \n",
       "2      2011      300.0               6.0              2.0           28   \n",
       "3      2011      230.0               6.0              2.0           28   \n",
       "4      2011      230.0               6.0              2.0           28   \n",
       "...     ...        ...               ...              ...          ...   \n",
       "11909  2012      300.0               6.0              4.0           23   \n",
       "11910  2012      300.0               6.0              4.0           23   \n",
       "11911  2012      300.0               6.0              4.0           23   \n",
       "11912  2013      300.0               6.0              4.0           23   \n",
       "11913  2006      221.0               6.0              4.0           26   \n",
       "\n",
       "       city_mpg  popularity  \n",
       "0            19        3916  \n",
       "1            19        3916  \n",
       "2            20        3916  \n",
       "3            18        3916  \n",
       "4            18        3916  \n",
       "...         ...         ...  \n",
       "11909        16         204  \n",
       "11910        16         204  \n",
       "11911        16         204  \n",
       "11912        16         204  \n",
       "11913        17          61  \n",
       "\n",
       "[11914 rows x 7 columns]"
      ]
     },
     "execution_count": 2087,
     "metadata": {},
     "output_type": "execute_result"
    }
   ],
   "source": [
    "df_features"
   ]
  },
  {
   "cell_type": "code",
   "execution_count": 2088,
   "id": "717eb310",
   "metadata": {},
   "outputs": [
    {
     "data": {
      "text/plain": [
       "0        10.739349\n",
       "1        10.612779\n",
       "2        10.500977\n",
       "3        10.290483\n",
       "4        10.448744\n",
       "           ...    \n",
       "11909    10.739024\n",
       "11910    10.945018\n",
       "11911    10.832122\n",
       "11912    10.838031\n",
       "11913    10.274913\n",
       "Name: msrp, Length: 11914, dtype: float64"
      ]
     },
     "execution_count": 2088,
     "metadata": {},
     "output_type": "execute_result"
    }
   ],
   "source": [
    "df_target"
   ]
  },
  {
   "cell_type": "code",
   "execution_count": 2089,
   "id": "c0aa6d8a",
   "metadata": {},
   "outputs": [],
   "source": [
    "X_train, X_val, X_test = train_val_test_split(df_features, index)\n",
    "y_train, y_val, y_test =  train_val_test_split(df_target, index)"
   ]
  },
  {
   "cell_type": "code",
   "execution_count": 2090,
   "id": "83d721f3",
   "metadata": {},
   "outputs": [
    {
     "data": {
      "text/plain": [
       "array([2.015e+03, 1.500e+02, 4.000e+00, 2.000e+00, 4.000e+01, 3.000e+01,\n",
       "       8.730e+02])"
      ]
     },
     "execution_count": 2090,
     "metadata": {},
     "output_type": "execute_result"
    }
   ],
   "source": [
    "df_train.values[10].round(2)"
   ]
  },
  {
   "cell_type": "code",
   "execution_count": 2091,
   "id": "d90818a7",
   "metadata": {},
   "outputs": [
    {
     "data": {
      "text/plain": [
       "10.554666248273572"
      ]
     },
     "execution_count": 2091,
     "metadata": {},
     "output_type": "execute_result"
    }
   ],
   "source": [
    "y_train[20]"
   ]
  },
  {
   "cell_type": "code",
   "execution_count": 2092,
   "id": "8998a79b",
   "metadata": {},
   "outputs": [],
   "source": [
    "def fit(X, y):\n",
    "    X = np.column_stack([np.ones(X.shape[0]), X]) # Add x0\n",
    "    return np.linalg.inv(X.T.dot(X)).dot(X.T).dot(y)"
   ]
  },
  {
   "cell_type": "code",
   "execution_count": 2093,
   "id": "8b42b55d",
   "metadata": {},
   "outputs": [
    {
     "data": {
      "text/plain": [
       "array([-1.80852890e+02,  9.43209513e-02,  3.80316024e-03,  7.39013429e-02,\n",
       "       -2.35246490e-02, -2.85786636e-03,  1.10921411e-02, -4.88810772e-05])"
      ]
     },
     "execution_count": 2093,
     "metadata": {},
     "output_type": "execute_result"
    }
   ],
   "source": [
    "w = fit(X_train, y_train)\n",
    "w"
   ]
  },
  {
   "cell_type": "code",
   "execution_count": 2094,
   "id": "980fb827",
   "metadata": {},
   "outputs": [],
   "source": [
    "# X: numpy array of 2D. E.g. X_train[10:11] -> shape is 1,3\n",
    "def linear_regression(X, w):\n",
    "    return np.column_stack([np.ones(X.shape[0]), X]).dot(w)"
   ]
  },
  {
   "cell_type": "code",
   "execution_count": 2095,
   "id": "5cb91ef0",
   "metadata": {},
   "outputs": [
    {
     "data": {
      "text/plain": [
       "array([9.70774433])"
      ]
     },
     "execution_count": 2095,
     "metadata": {},
     "output_type": "execute_result"
    }
   ],
   "source": [
    "y_pred = linear_regression(X_train[20:21], w)\n",
    "# y_pred = np.expm1(y_pred)\n",
    "y_pred"
   ]
  },
  {
   "cell_type": "code",
   "execution_count": 2096,
   "id": "6a3d7df2",
   "metadata": {},
   "outputs": [
    {
     "data": {
      "text/plain": [
       "array([ 9.45920523,  9.710962  , 10.23607704, ..., 10.73589435,\n",
       "       12.12338124, 10.46736738])"
      ]
     },
     "execution_count": 2096,
     "metadata": {},
     "output_type": "execute_result"
    }
   ],
   "source": [
    "y_pred = linear_regression(X_train, w)\n",
    "y_pred"
   ]
  },
  {
   "cell_type": "code",
   "execution_count": 2097,
   "id": "e135b01c",
   "metadata": {},
   "outputs": [
    {
     "data": {
      "text/plain": [
       "<AxesSubplot:ylabel='Count'>"
      ]
     },
     "execution_count": 2097,
     "metadata": {},
     "output_type": "execute_result"
    },
    {
     "data": {
      "image/png": "[encoded data removed]",
      "text/plain": [
       "<Figure size 640x480 with 1 Axes>"
      ]
     },
     "metadata": {},
     "output_type": "display_data"
    }
   ],
   "source": [
    "sns.histplot(y_pred, bins=50, color='red', alpha=0.5)\n",
    "sns.histplot(y_train, bins=50, color='blue', alpha=0.5)"
   ]
  },
  {
   "cell_type": "markdown",
   "id": "fe9fcf6f",
   "metadata": {},
   "source": [
    "# Evaluate model"
   ]
  },
  {
   "cell_type": "code",
   "execution_count": 2098,
   "id": "9a443871",
   "metadata": {},
   "outputs": [],
   "source": [
    "def rmse(x,y):\n",
    "    return np.sqrt(np.mean((x-y)**2))"
   ]
  },
  {
   "cell_type": "code",
   "execution_count": 2099,
   "id": "1b865038",
   "metadata": {},
   "outputs": [
    {
     "data": {
      "text/plain": [
       "0.517135668281233"
      ]
     },
     "execution_count": 2099,
     "metadata": {},
     "output_type": "execute_result"
    }
   ],
   "source": [
    "rmse_train = rmse(y_pred, y_train)\n",
    "rmse_train"
   ]
  },
  {
   "cell_type": "code",
   "execution_count": 2100,
   "id": "32b3b20c",
   "metadata": {},
   "outputs": [],
   "source": [
    "y_pred = linear_regression(X_val, w)"
   ]
  },
  {
   "cell_type": "code",
   "execution_count": 2101,
   "id": "41635e85",
   "metadata": {},
   "outputs": [
    {
     "data": {
      "text/plain": [
       "0.5168234951491002"
      ]
     },
     "execution_count": 2101,
     "metadata": {},
     "output_type": "execute_result"
    }
   ],
   "source": [
    "rmse_val = rmse(y_pred, y_val)\n",
    "rmse_val"
   ]
  },
  {
   "cell_type": "markdown",
   "id": "529ebce0",
   "metadata": {},
   "source": [
    "# Feature engineering"
   ]
  },
  {
   "cell_type": "markdown",
   "id": "37196fdf",
   "metadata": {},
   "source": [
    "Use a new feature, instead of using year, use the age of the car"
   ]
  },
  {
   "cell_type": "code",
   "execution_count": 2102,
   "id": "3faa3db7",
   "metadata": {},
   "outputs": [
    {
     "data": {
      "text/plain": [
       "2017"
      ]
     },
     "execution_count": 2102,
     "metadata": {},
     "output_type": "execute_result"
    }
   ],
   "source": [
    "df['year'].max()"
   ]
  },
  {
   "cell_type": "code",
   "execution_count": 2103,
   "id": "ca68bd20",
   "metadata": {},
   "outputs": [
    {
     "data": {
      "text/plain": [
       "['year',\n",
       " 'engine_hp',\n",
       " 'engine_cylinders',\n",
       " 'number_of_doors',\n",
       " 'highway_mpg',\n",
       " 'city_mpg',\n",
       " 'popularity']"
      ]
     },
     "execution_count": 2103,
     "metadata": {},
     "output_type": "execute_result"
    }
   ],
   "source": [
    "numerical_baseline"
   ]
  },
  {
   "cell_type": "code",
   "execution_count": 2104,
   "id": "50d5ac43",
   "metadata": {},
   "outputs": [],
   "source": [
    "def preprocess_features(df, numerical, target):\n",
    "    \n",
    "    df = df.copy()\n",
    "    \n",
    "    df[numerical] = df[numerical].fillna(0)\n",
    "    \n",
    "    df_target = np.log1p(df[target])\n",
    "    del(df[target])\n",
    "    \n",
    "    df['age'] = df['year'].max() - df['year']\n",
    "    columns = numerical + ['age']\n",
    "    columns.remove('year')\n",
    "    \n",
    "    return df[columns], df_target, columns"
   ]
  },
  {
   "cell_type": "markdown",
   "id": "15aee777",
   "metadata": {},
   "source": [
    "In regard categorical variables, we preprocess the entire df, before splitting, because it is possible that during the process, the number of resulting columns may vary from train set to val set. For instance, the number of doors = nan is a possible value in train set but not in val set. If we process the entire dataset and split afterthat, there is no problem, we will one hot encode all possible values"
   ]
  },
  {
   "cell_type": "code",
   "execution_count": 2105,
   "id": "248a3b2f",
   "metadata": {},
   "outputs": [
    {
     "data": {
      "text/plain": [
       "['engine_hp',\n",
       " 'engine_cylinders',\n",
       " 'number_of_doors',\n",
       " 'highway_mpg',\n",
       " 'city_mpg',\n",
       " 'popularity',\n",
       " 'age']"
      ]
     },
     "execution_count": 2105,
     "metadata": {},
     "output_type": "execute_result"
    }
   ],
   "source": [
    "df_features, df_target, features = preprocess_features(df, numerical_baseline, target)\n",
    "features"
   ]
  },
  {
   "cell_type": "code",
   "execution_count": 2106,
   "id": "bbc1e67e",
   "metadata": {},
   "outputs": [
    {
     "data": {
      "text/plain": [
       "array([ 148.,    4.,    2.,   33.,   24., 1385.,    9.])"
      ]
     },
     "execution_count": 2106,
     "metadata": {},
     "output_type": "execute_result"
    }
   ],
   "source": [
    "X_train, X_val, X_test = train_val_test_split(df_features, index)\n",
    "X_train[0]"
   ]
  },
  {
   "cell_type": "code",
   "execution_count": 2107,
   "id": "e604baba",
   "metadata": {},
   "outputs": [
    {
     "data": {
      "text/plain": [
       "0.5168234951483335"
      ]
     },
     "execution_count": 2107,
     "metadata": {},
     "output_type": "execute_result"
    }
   ],
   "source": [
    "w = fit(X_train, y_train)\n",
    "y_pred = linear_regression(X_val, w)\n",
    "rmse_val = rmse(y_pred, y_val)\n",
    "rmse_val"
   ]
  },
  {
   "cell_type": "markdown",
   "id": "9ee7e197",
   "metadata": {},
   "source": [
    "Almost no improvement. Since we were already using the year"
   ]
  },
  {
   "cell_type": "markdown",
   "id": "d307d371",
   "metadata": {},
   "source": [
    "# Categorical variables"
   ]
  },
  {
   "cell_type": "markdown",
   "id": "7f15a876",
   "metadata": {},
   "source": [
    "Number of doors shall be categorial. Use one hot encoding. We discard the value nan, only \"2.0\", \"3.0\", and \"4.0\" because \"nan\" is unbalanced and the result will be worse. It we use all makers we will have overfitting. If we use all values of all categories or even 20 values, the inverse matrix will not exists. So we use the top 5 values of each category. We will have overfit as well. Regularization will fix all of these issues"
   ]
  },
  {
   "cell_type": "code",
   "execution_count": 2160,
   "id": "528ea383",
   "metadata": {},
   "outputs": [],
   "source": [
    "def preprocess_features(df, numerical, categorical_values, target):\n",
    "    \n",
    "    df = df.copy()\n",
    "    \n",
    "    df[numerical] = df[numerical].fillna(0)\n",
    "    \n",
    "    df_target = np.log1p(df[target])\n",
    "    del(df[target])\n",
    "    \n",
    "    df['age'] = df['year'].max() - df['year']\n",
    "    columns = numerical + ['age']\n",
    "    columns.remove('year')\n",
    "    \n",
    "    for category, values in categorical_values.items():\n",
    "        \n",
    "        df[category] = df[category].astype(str)\n",
    "        \n",
    "        for value in values:\n",
    "            column = f'{category}_{value}'\n",
    "            df[column] = (df[category] == value).astype(int)\n",
    "            columns.append(column)\n",
    "        \n",
    "        del(df[category])\n",
    "        \n",
    "    return df[columns], df_target, columns"
   ]
  },
  {
   "cell_type": "code",
   "execution_count": 2109,
   "id": "6a32b7f5",
   "metadata": {},
   "outputs": [],
   "source": [
    "categorical_baseline.append('number_of_doors')"
   ]
  },
  {
   "cell_type": "code",
   "execution_count": 2110,
   "id": "31577612",
   "metadata": {},
   "outputs": [],
   "source": [
    "numerical_baseline.remove('number_of_doors')"
   ]
  },
  {
   "cell_type": "code",
   "execution_count": 2161,
   "id": "d239819c",
   "metadata": {},
   "outputs": [],
   "source": [
    "categorical_values = {}\n",
    "categorical = ['number_of_doors']"
   ]
  },
  {
   "cell_type": "code",
   "execution_count": 2168,
   "id": "8e7aed39",
   "metadata": {},
   "outputs": [],
   "source": [
    "for category in categorical:\n",
    "    values = df[category].astype(str).value_counts().iloc[:10].index\n",
    "    values = values[values != 'nan']\n",
    "    categorical_values[category] = values"
   ]
  },
  {
   "cell_type": "code",
   "execution_count": 2169,
   "id": "9182ac30",
   "metadata": {},
   "outputs": [
    {
     "data": {
      "text/plain": [
       "{'number_of_doors': Index(['4.0', '2.0', '3.0'], dtype='object')}"
      ]
     },
     "execution_count": 2169,
     "metadata": {},
     "output_type": "execute_result"
    }
   ],
   "source": [
    "categorical_values"
   ]
  },
  {
   "cell_type": "code",
   "execution_count": 2170,
   "id": "c290b00a",
   "metadata": {},
   "outputs": [],
   "source": [
    "df_features, df_target, features = preprocess_features(df, numerical_baseline, categorical_values, target)"
   ]
  },
  {
   "cell_type": "code",
   "execution_count": 2171,
   "id": "9731954b",
   "metadata": {
    "scrolled": true
   },
   "outputs": [
    {
     "data": {
      "text/plain": [
       "['engine_hp',\n",
       " 'engine_cylinders',\n",
       " 'highway_mpg',\n",
       " 'city_mpg',\n",
       " 'popularity',\n",
       " 'age',\n",
       " 'number_of_doors_4.0',\n",
       " 'number_of_doors_2.0',\n",
       " 'number_of_doors_3.0']"
      ]
     },
     "execution_count": 2171,
     "metadata": {},
     "output_type": "execute_result"
    }
   ],
   "source": [
    "features"
   ]
  },
  {
   "cell_type": "code",
   "execution_count": 2172,
   "id": "f051b3c2",
   "metadata": {},
   "outputs": [],
   "source": [
    "X_train, X_val, X_test = train_val_test_split(df_features, index)"
   ]
  },
  {
   "cell_type": "code",
   "execution_count": 2173,
   "id": "75c8253b",
   "metadata": {},
   "outputs": [
    {
     "data": {
      "text/plain": [
       "0.515799564150281"
      ]
     },
     "execution_count": 2173,
     "metadata": {},
     "output_type": "execute_result"
    }
   ],
   "source": [
    "w = fit(X_train, y_train)\n",
    "y_pred = linear_regression(X_val, w)\n",
    "rmse_val = rmse(y_pred, y_val)\n",
    "rmse_val"
   ]
  },
  {
   "cell_type": "markdown",
   "id": "2cae5ba9",
   "metadata": {},
   "source": [
    "Almost no improvement due to change numerical number of doors to categorical\n",
    "Let's add all categories"
   ]
  },
  {
   "cell_type": "code",
   "execution_count": 2177,
   "id": "b04411cf",
   "metadata": {},
   "outputs": [],
   "source": [
    "categorical_values = {}\n",
    "categorical = categorical_baseline\n",
    "for category in categorical:\n",
    "    values = df[category].astype(str).value_counts().iloc[:10].index\n",
    "    values = values[values != 'nan']\n",
    "    categorical_values[category] = values"
   ]
  },
  {
   "cell_type": "code",
   "execution_count": 2179,
   "id": "8bafdb7c",
   "metadata": {},
   "outputs": [],
   "source": [
    "df_features, df_target, features = preprocess_features(df, numerical_baseline, categorical_values, target)\n",
    "X_train, X_val, X_test = train_val_test_split(df_features, index)"
   ]
  },
  {
   "cell_type": "code",
   "execution_count": 2180,
   "id": "92fd9bed",
   "metadata": {},
   "outputs": [
    {
     "data": {
      "text/plain": [
       "['engine_hp',\n",
       " 'engine_cylinders',\n",
       " 'highway_mpg',\n",
       " 'city_mpg',\n",
       " 'popularity',\n",
       " 'age',\n",
       " 'make_chevrolet',\n",
       " 'make_ford',\n",
       " 'make_volkswagen',\n",
       " 'make_toyota',\n",
       " 'make_dodge',\n",
       " 'make_nissan',\n",
       " 'make_gmc',\n",
       " 'make_honda',\n",
       " 'make_mazda',\n",
       " 'make_cadillac',\n",
       " 'model_silverado_1500',\n",
       " 'model_tundra',\n",
       " 'model_f-150',\n",
       " 'model_sierra_1500',\n",
       " 'model_beetle_convertible',\n",
       " 'model_tacoma',\n",
       " 'model_gti',\n",
       " 'model_frontier',\n",
       " 'model_beetle',\n",
       " 'model_accord',\n",
       " 'engine_fuel_type_regular_unleaded',\n",
       " 'engine_fuel_type_premium_unleaded_(required)',\n",
       " 'engine_fuel_type_premium_unleaded_(recommended)',\n",
       " 'engine_fuel_type_flex-fuel_(unleaded/e85)',\n",
       " 'engine_fuel_type_diesel',\n",
       " 'engine_fuel_type_electric',\n",
       " 'engine_fuel_type_flex-fuel_(premium_unleaded_required/e85)',\n",
       " 'engine_fuel_type_flex-fuel_(premium_unleaded_recommended/e85)',\n",
       " 'engine_fuel_type_flex-fuel_(unleaded/natural_gas)',\n",
       " 'transmission_type_automatic',\n",
       " 'transmission_type_manual',\n",
       " 'transmission_type_automated_manual',\n",
       " 'transmission_type_direct_drive',\n",
       " 'transmission_type_unknown',\n",
       " 'driven_wheels_front_wheel_drive',\n",
       " 'driven_wheels_rear_wheel_drive',\n",
       " 'driven_wheels_all_wheel_drive',\n",
       " 'driven_wheels_four_wheel_drive',\n",
       " 'market_category_crossover',\n",
       " 'market_category_flex_fuel',\n",
       " 'market_category_luxury',\n",
       " 'market_category_luxury,performance',\n",
       " 'market_category_hatchback',\n",
       " 'market_category_performance',\n",
       " 'market_category_crossover,luxury',\n",
       " 'market_category_luxury,high-performance',\n",
       " 'market_category_exotic,high-performance',\n",
       " 'vehicle_size_compact',\n",
       " 'vehicle_size_midsize',\n",
       " 'vehicle_size_large',\n",
       " 'vehicle_style_sedan',\n",
       " 'vehicle_style_4dr_suv',\n",
       " 'vehicle_style_coupe',\n",
       " 'vehicle_style_convertible',\n",
       " 'vehicle_style_4dr_hatchback',\n",
       " 'vehicle_style_crew_cab_pickup',\n",
       " 'vehicle_style_extended_cab_pickup',\n",
       " 'vehicle_style_wagon',\n",
       " 'vehicle_style_2dr_hatchback',\n",
       " 'vehicle_style_passenger_minivan',\n",
       " 'number_of_doors_4.0',\n",
       " 'number_of_doors_2.0',\n",
       " 'number_of_doors_3.0']"
      ]
     },
     "execution_count": 2180,
     "metadata": {},
     "output_type": "execute_result"
    }
   ],
   "source": [
    "features"
   ]
  },
  {
   "cell_type": "code",
   "execution_count": 2181,
   "id": "a865b98b",
   "metadata": {},
   "outputs": [
    {
     "data": {
      "text/plain": [
       "253.71722962463167"
      ]
     },
     "execution_count": 2181,
     "metadata": {},
     "output_type": "execute_result"
    }
   ],
   "source": [
    "w = fit(X_train, y_train)\n",
    "y_pred = linear_regression(X_val, w)\n",
    "rmse_val = rmse(y_pred, y_val)\n",
    "rmse_val"
   ]
  },
  {
   "cell_type": "markdown",
   "id": "3f7d5937",
   "metadata": {},
   "source": [
    "Model performance is worse. Looking at the w matrix, the values are very large. Use regularization"
   ]
  },
  {
   "cell_type": "code",
   "execution_count": 2182,
   "id": "f5d193d7",
   "metadata": {},
   "outputs": [
    {
     "data": {
      "text/plain": [
       "array([-6.82332909e+13, -2.82158002e-01,  1.19735536e+01,  3.92343491e-01,\n",
       "       -5.18291966e+00, -1.18838409e-03, -2.22873561e+00,  1.18595968e+01,\n",
       "       -5.99177246e+00, -9.25249554e+00,  1.42812075e+01, -8.79950269e+00,\n",
       "        3.72064229e+00, -1.22484172e+01,  1.22733575e+01,  7.73527420e+00,\n",
       "        1.01237789e+01, -2.56387178e+01, -3.44723769e+01,  1.63899200e+01,\n",
       "        2.00172896e+00, -1.73427841e+00, -2.53215962e+01, -3.79686884e+00,\n",
       "       -5.89443429e+00,  1.50101838e+01, -1.04288326e+01,  7.05015692e+03,\n",
       "        7.05555032e+03,  7.04885885e+03,  7.05505251e+03,  7.07583636e+03,\n",
       "        1.38145776e+04,  7.06609792e+03,  6.89224085e+03,  6.62587480e+03,\n",
       "        7.31670725e+14,  7.31670725e+14,  7.31670725e+14,  7.31670725e+14,\n",
       "        7.31670725e+14, -6.63437434e+14, -6.63437434e+14, -6.63437434e+14,\n",
       "       -6.63437434e+14,  2.12260517e-01, -7.36364599e+00, -2.26077585e+00,\n",
       "       -4.86194295e+00, -1.50597885e+00, -4.15397812e+00, -1.82073412e+00,\n",
       "       -7.81239820e-01, -6.65023164e-01, -4.31520438e+03, -4.30287967e+03,\n",
       "       -4.30107238e+03, -6.86486099e-02,  3.22280109e-03,  2.45742734e-01,\n",
       "        4.52110363e-01, -1.69457782e-01,  1.57764034e-02, -3.13472187e-02,\n",
       "        3.49173096e-02,  2.02817337e-01,  7.03839925e-02, -3.23928694e-01,\n",
       "       -5.90192502e-01, -7.21435478e-01])"
      ]
     },
     "execution_count": 2182,
     "metadata": {},
     "output_type": "execute_result"
    }
   ],
   "source": [
    "w"
   ]
  },
  {
   "cell_type": "markdown",
   "id": "3fa91d78",
   "metadata": {},
   "source": [
    "# Regularization"
   ]
  },
  {
   "cell_type": "code",
   "execution_count": 2183,
   "id": "77fc4f66",
   "metadata": {},
   "outputs": [],
   "source": [
    "def fit(X, y, r=0):\n",
    "    ones = np.ones(X.shape[0])\n",
    "    X = np.column_stack([np.ones(X.shape[0]), X]) # Add x0\n",
    "    XTX = X.T.dot(X)\n",
    "    return np.linalg.inv(XTX + r * np.eye(XTX.shape[0])).dot(X.T).dot(y)"
   ]
  },
  {
   "cell_type": "code",
   "execution_count": 2184,
   "id": "87849c56",
   "metadata": {},
   "outputs": [
    {
     "data": {
      "text/plain": [
       "0.43788740841403373"
      ]
     },
     "execution_count": 2184,
     "metadata": {},
     "output_type": "execute_result"
    }
   ],
   "source": [
    "w = fit(X_train, y_train, 0.001)\n",
    "y_pred = linear_regression(X_val, w)\n",
    "rmse_val = rmse(y_pred, y_val)\n",
    "rmse_val"
   ]
  },
  {
   "cell_type": "code",
   "execution_count": 2185,
   "id": "422c8dce",
   "metadata": {},
   "outputs": [
    {
     "data": {
      "text/plain": [
       "array([ 6.23170653e+00,  1.44031642e-03,  9.03225067e-02, -6.41370146e-03,\n",
       "       -8.93958271e-03, -3.21952074e-05, -9.99794927e-02, -5.94572046e-02,\n",
       "        7.65519018e-02,  2.34663224e-02, -4.66358420e-03, -1.83189916e-01,\n",
       "       -2.49675308e-01, -2.33003552e-02,  1.63956107e-02,  1.47716304e-02,\n",
       "        1.98763819e-01, -3.02298680e-01, -6.63166342e-01, -3.19996843e-01,\n",
       "       -3.44468091e-01, -2.48874775e-01, -4.45815965e-01,  1.37935151e-01,\n",
       "       -3.00598262e-01, -1.79168390e-01, -8.16989615e-02, -5.43374742e-01,\n",
       "       -4.62962241e-02, -3.97826387e-01, -6.50213570e-01, -1.95102738e-01,\n",
       "        1.33148325e+00, -3.95674195e-02, -3.44923914e-01, -3.12196637e-01,\n",
       "        1.34269884e+00,  1.15934921e+00,  1.34229987e+00,  1.64493980e+00,\n",
       "        7.42875603e-01,  1.54092175e+00,  1.53331113e+00,  1.56238513e+00,\n",
       "        1.59502606e+00, -1.10114469e-01,  1.43732634e-01, -1.13218062e-01,\n",
       "       -1.29992862e-01, -4.61063175e-02, -1.24409410e-01, -1.21741439e-01,\n",
       "       -7.40390244e-02,  5.44969908e-01,  2.12845952e+00,  2.04412693e+00,\n",
       "        2.05917116e+00, -6.85947659e-02,  3.27548537e-03,  2.45751224e-01,\n",
       "        4.52117697e-01, -1.69416620e-01,  1.58170140e-02, -3.13135577e-02,\n",
       "        3.49665321e-02,  2.02824158e-01,  7.04310722e-02, -3.22500764e-01,\n",
       "       -5.88724178e-01, -7.19964439e-01])"
      ]
     },
     "execution_count": 2185,
     "metadata": {},
     "output_type": "execute_result"
    }
   ],
   "source": [
    "w"
   ]
  },
  {
   "cell_type": "markdown",
   "id": "fdb13d68",
   "metadata": {},
   "source": [
    "# Tuning the model"
   ]
  },
  {
   "cell_type": "code",
   "execution_count": 2186,
   "id": "bd5e2eb7",
   "metadata": {},
   "outputs": [
    {
     "name": "stdout",
     "output_type": "stream",
     "text": [
      "r=10.0. rmse_val=0.4511\n",
      "r=1.0. rmse_val=0.4385\n",
      "r=0.1. rmse_val=0.4378\n",
      "r=0.01. rmse_val=0.4378\n",
      "r=0.001. rmse_val=0.4379\n",
      "r=0.0001. rmse_val=0.4379\n",
      "r=1e-05. rmse_val=0.4379\n"
     ]
    }
   ],
   "source": [
    "for r in np.logspace(1,-5,7):\n",
    "    w = fit(X_train, y_train, r)\n",
    "    y_pred = linear_regression(X_val, w)\n",
    "    rmse_val = rmse(y_pred, y_val)\n",
    "    print(f'r={r}. rmse_val={rmse_val:.4f}')"
   ]
  },
  {
   "cell_type": "code",
   "execution_count": 2187,
   "id": "0cff6bf0",
   "metadata": {},
   "outputs": [],
   "source": [
    "r = 0.01\n",
    "y_pred = linear_regression(X_val, w)"
   ]
  },
  {
   "cell_type": "code",
   "execution_count": 2188,
   "id": "85574c66",
   "metadata": {},
   "outputs": [
    {
     "data": {
      "text/plain": [
       "<AxesSubplot:ylabel='Count'>"
      ]
     },
     "execution_count": 2188,
     "metadata": {},
     "output_type": "execute_result"
    },
    {
     "data": {
      "image/png": "[encoded data removed]",
      "text/plain": [
       "<Figure size 640x480 with 1 Axes>"
      ]
     },
     "metadata": {},
     "output_type": "display_data"
    }
   ],
   "source": [
    "sns.histplot(y_pred, bins=50, color='red', alpha=0.5)\n",
    "sns.histplot(y_val, bins=50, color='blue', alpha=0.5)"
   ]
  },
  {
   "cell_type": "markdown",
   "id": "dc0ddfb9",
   "metadata": {},
   "source": [
    "# Using the model"
   ]
  },
  {
   "cell_type": "markdown",
   "id": "82d94814",
   "metadata": {},
   "source": [
    "Retrain with test and val sets concatenated. Evaluate the model with test set\n",
    "Test with sample. We should recompute all values of the categorical again, with the full train set. Not done yet"
   ]
  },
  {
   "cell_type": "code",
   "execution_count": 2189,
   "id": "f5c51646",
   "metadata": {},
   "outputs": [],
   "source": [
    "X_full_train = np.concatenate([X_train, X_val])\n",
    "y_full_train = np.concatenate([y_train, y_val])"
   ]
  },
  {
   "cell_type": "code",
   "execution_count": 2190,
   "id": "9e6e22d2",
   "metadata": {},
   "outputs": [
    {
     "name": "stdout",
     "output_type": "stream",
     "text": [
      "r=0.01. rmse_val=0.4332\n"
     ]
    }
   ],
   "source": [
    "w = fit(X_full_train, y_full_train, r=0.01)\n",
    "y_pred = linear_regression(X_test, w)\n",
    "rmse_val = rmse(y_pred, y_test)\n",
    "print(f'r={r}. rmse_val={rmse_val:.4f}')"
   ]
  },
  {
   "cell_type": "code",
   "execution_count": 2191,
   "id": "1218f555",
   "metadata": {},
   "outputs": [
    {
     "data": {
      "text/plain": [
       "{'make': 'audi',\n",
       " 'model': '100',\n",
       " 'year': 1993,\n",
       " 'engine_fuel_type': 'regular_unleaded',\n",
       " 'engine_hp': 172.0,\n",
       " 'engine_cylinders': 6.0,\n",
       " 'transmission_type': 'manual',\n",
       " 'driven_wheels': 'front_wheel_drive',\n",
       " 'number_of_doors': 4.0,\n",
       " 'market_category': 'luxury',\n",
       " 'vehicle_size': 'midsize',\n",
       " 'vehicle_style': 'sedan',\n",
       " 'highway_mpg': 24,\n",
       " 'city_mpg': 17,\n",
       " 'popularity': 3105,\n",
       " 'msrp': 2000}"
      ]
     },
     "execution_count": 2191,
     "metadata": {},
     "output_type": "execute_result"
    }
   ],
   "source": [
    "car = df.iloc[25].to_dict()\n",
    "car"
   ]
  },
  {
   "cell_type": "code",
   "execution_count": 2192,
   "id": "3f7590d8",
   "metadata": {},
   "outputs": [
    {
     "data": {
      "text/html": [
       "<div>\n",
       "<style scoped>\n",
       "    .dataframe tbody tr th:only-of-type {\n",
       "        vertical-align: middle;\n",
       "    }\n",
       "\n",
       "    .dataframe tbody tr th {\n",
       "        vertical-align: top;\n",
       "    }\n",
       "\n",
       "    .dataframe thead th {\n",
       "        text-align: right;\n",
       "    }\n",
       "</style>\n",
       "<table border=\"1\" class=\"dataframe\">\n",
       "  <thead>\n",
       "    <tr style=\"text-align: right;\">\n",
       "      <th></th>\n",
       "      <th>make</th>\n",
       "      <th>model</th>\n",
       "      <th>year</th>\n",
       "      <th>engine_fuel_type</th>\n",
       "      <th>engine_hp</th>\n",
       "      <th>engine_cylinders</th>\n",
       "      <th>transmission_type</th>\n",
       "      <th>driven_wheels</th>\n",
       "      <th>number_of_doors</th>\n",
       "      <th>market_category</th>\n",
       "      <th>vehicle_size</th>\n",
       "      <th>vehicle_style</th>\n",
       "      <th>highway_mpg</th>\n",
       "      <th>city_mpg</th>\n",
       "      <th>popularity</th>\n",
       "      <th>msrp</th>\n",
       "    </tr>\n",
       "  </thead>\n",
       "  <tbody>\n",
       "    <tr>\n",
       "      <th>0</th>\n",
       "      <td>audi</td>\n",
       "      <td>100</td>\n",
       "      <td>1993</td>\n",
       "      <td>regular_unleaded</td>\n",
       "      <td>172.0</td>\n",
       "      <td>6.0</td>\n",
       "      <td>manual</td>\n",
       "      <td>front_wheel_drive</td>\n",
       "      <td>4.0</td>\n",
       "      <td>luxury</td>\n",
       "      <td>midsize</td>\n",
       "      <td>sedan</td>\n",
       "      <td>24</td>\n",
       "      <td>17</td>\n",
       "      <td>3105</td>\n",
       "      <td>2000</td>\n",
       "    </tr>\n",
       "  </tbody>\n",
       "</table>\n",
       "</div>"
      ],
      "text/plain": [
       "   make model  year  engine_fuel_type  engine_hp  engine_cylinders  \\\n",
       "0  audi   100  1993  regular_unleaded      172.0               6.0   \n",
       "\n",
       "  transmission_type      driven_wheels  number_of_doors market_category  \\\n",
       "0            manual  front_wheel_drive              4.0          luxury   \n",
       "\n",
       "  vehicle_size vehicle_style  highway_mpg  city_mpg  popularity  msrp  \n",
       "0      midsize         sedan           24        17        3105  2000  "
      ]
     },
     "execution_count": 2192,
     "metadata": {},
     "output_type": "execute_result"
    }
   ],
   "source": [
    "example = pd.DataFrame([car])\n",
    "example"
   ]
  },
  {
   "cell_type": "code",
   "execution_count": 2194,
   "id": "2a47d016",
   "metadata": {},
   "outputs": [],
   "source": [
    "X, y, features  = preprocess_features(example, numerical_baseline, categorical_values, target)"
   ]
  },
  {
   "cell_type": "code",
   "execution_count": 2208,
   "id": "f657b9bb",
   "metadata": {},
   "outputs": [],
   "source": [
    "prediction = linear_regression(X.values, w)"
   ]
  },
  {
   "cell_type": "code",
   "execution_count": 2209,
   "id": "3592eafc",
   "metadata": {},
   "outputs": [
    {
     "name": "stdout",
     "output_type": "stream",
     "text": [
      "[10.33480564]\n"
     ]
    }
   ],
   "source": [
    "print(prediction)"
   ]
  },
  {
   "cell_type": "code",
   "execution_count": null,
   "id": "99048fec",
   "metadata": {},
   "outputs": [],
   "source": []
  }
 ],
 "metadata": {
  "kernelspec": {
   "display_name": "Python 3 (ipykernel)",
   "language": "python",
   "name": "python3"
  },
  "language_info": {
   "codemirror_mode": {
    "name": "ipython",
    "version": 3
   },
   "file_extension": ".py",
   "mimetype": "text/x-python",
   "name": "python",
   "nbconvert_exporter": "python",
   "pygments_lexer": "ipython3",
   "version": "3.9.7"
  }
 },
 "nbformat": 4,
 "nbformat_minor": 5
}
