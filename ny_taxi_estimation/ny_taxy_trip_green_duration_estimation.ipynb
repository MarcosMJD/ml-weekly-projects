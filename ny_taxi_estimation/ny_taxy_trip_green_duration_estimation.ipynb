{
 "cells": [
  {
   "cell_type": "code",
   "execution_count": 1,
   "id": "cfc641c3",
   "metadata": {},
   "outputs": [],
   "source": [
    "import pandas as pd\n",
    "import numpy as np\n",
    "import pickle\n",
    "import seaborn as sns\n",
    "import matplotlib.pyplot as plt\n",
    "from sklearn.feature_extraction import DictVectorizer\n",
    "from sklearn.linear_model import LinearRegression, Lasso, Ridge\n",
    "from sklearn.metrics import mean_squared_error\n",
    "from IPython.display import display"
   ]
  },
  {
   "cell_type": "markdown",
   "id": "a48fe99a",
   "metadata": {},
   "source": [
    "# Data ingestion"
   ]
  },
  {
   "cell_type": "code",
   "execution_count": 166,
   "id": "17f27f6b",
   "metadata": {},
   "outputs": [],
   "source": [
    "url = 'https://s3.amazonaws.com/nyc-tlc/trip+data/'\n",
    "files = ['green_tripdata_2021-01.parquet', 'green_tripdata_2021-02.parquet']\n",
    "data_sources = [url + file for file in files]\n",
    "data_destinations = ['./data/' + file for file in files]"
   ]
  },
  {
   "cell_type": "code",
   "execution_count": 167,
   "id": "7c9c415d",
   "metadata": {},
   "outputs": [
    {
     "name": "stdout",
     "output_type": "stream",
     "text": [
      "Downloading https://s3.amazonaws.com/nyc-tlc/trip+data/green_tripdata_2021-01.parquet\n",
      "Downloading https://s3.amazonaws.com/nyc-tlc/trip+data/green_tripdata_2021-02.parquet\n"
     ]
    },
    {
     "name": "stderr",
     "output_type": "stream",
     "text": [
      "  % Total    % Received % Xferd  Average Speed   Time    Time     Time  Current\n",
      "                                 Dload  Upload   Total   Spent    Left  Speed\n",
      "\n",
      "  0     0    0     0    0     0      0      0 --:--:-- --:--:-- --:--:--     0\n",
      "  0 1302k    0  8630    0     0  14193      0  0:01:33 --:--:--  0:01:33 14217\n",
      "100 1302k  100 1302k    0     0   882k      0  0:00:01  0:00:01 --:--:--  883k\n",
      "  % Total    % Received % Xferd  Average Speed   Time    Time     Time  Current\n",
      "                                 Dload  Upload   Total   Spent    Left  Speed\n",
      "\n",
      "  0     0    0     0    0     0      0      0 --:--:-- --:--:-- --:--:--     0\n",
      "  0     0    0     0    0     0      0      0 --:--:-- --:--:-- --:--:--     0\n",
      " 43 1118k   43  483k    0     0   458k      0  0:00:02  0:00:01  0:00:01  458k\n",
      "100 1118k  100 1118k    0     0   793k      0  0:00:01  0:00:01 --:--:--  793k\n"
     ]
    }
   ],
   "source": [
    "for i in range(len(data_sources)):\n",
    "    source = data_sources[i]\n",
    "    destination = data_destinations[i]\n",
    "    print(f'Downloading {data_sources[i]}')\n",
    "    !curl $source -o $destination --create-dirs "
   ]
  },
  {
   "cell_type": "markdown",
   "id": "508dcb77",
   "metadata": {},
   "source": [
    "# Data preparation\n",
    "- Look at the data\n",
    "- Make column names and values look uniform\n",
    "- Check if all the columns read correctly\n",
    "- Check and transform types - categorical/numerical features"
   ]
  },
  {
   "cell_type": "code",
   "execution_count": 168,
   "id": "af4fe698",
   "metadata": {},
   "outputs": [],
   "source": [
    "def read_dataframe (data_file, categorical_features=None, numerical_features=None, target=None, verbose=False):\n",
    "    \n",
    "    if (verbose): print(f'Pre-processing dataset {data_file}')\n",
    "    df = pd.read_parquet(data_file)\n",
    "    if (verbose): print(f'shape: {df.shape}')\n",
    "    df.columns.str.lower().str.replace(' ','_')\n",
    "    if (verbose): print(f'types:\\n{df.dtypes}')\n",
    "    \n",
    "    categorical_columns = list(df.dtypes[df.dtypes == 'object'].index)\n",
    "    numerical_columns = list(df.dtypes[df.dtypes != 'object'].index)\n",
    "    \n",
    "    for column in categorical_columns:\n",
    "        # This will not touch the None values, only the not None types are processed (type(df['store_and_fwd_flag'].iloc[-1]) => 'NoneType')\n",
    "        df[column] = df[column].str.lower().str.replace(' ', '_')\n",
    "    \n",
    "    df['duration'] = (df['lpep_dropoff_datetime'] - df['lpep_pickup_datetime']).dt.seconds / 60\n",
    "    \n",
    "    if verbose:\n",
    "        display(df.head().T)\n",
    "        print(f'types:\\n{df.dtypes}')\n",
    "        print('\\nUniques values\\n')\n",
    "        \n",
    "        for c in df.columns:\n",
    "            display(c, df[c].unique())\n",
    "            \n",
    "        print('\\ncategorical_columns\\n')\n",
    "        for column in categorical_columns:\n",
    "            display(f'Feature: {column}')\n",
    "            display(f'Number of unique values: {df[column].nunique()}')\n",
    "            display(f'Number of nulls: {df[column].isnull().sum()}')\n",
    "            display(df[column].value_counts(normalize=True))\n",
    "            \n",
    "        print('\\nnumerical_columns\\n')\n",
    "        for column in numerical_columns:\n",
    "            display(f'Feature: {column}')\n",
    "            nuniques = df[column].nunique()\n",
    "            display(f'Number of unique values: {nuniques}')\n",
    "            display(f'Number of nulls: {df[column].isnull().sum()}')\n",
    "            if nuniques < 20:\n",
    "                display(df[column].value_counts(normalize=False))\n",
    "        \n",
    "        sns.displot(df.duration, kind='kde')\n",
    "        df['duration'].describe(percentiles=[0.1, 0.2, 0.95, 0.98, 0.99])  \n",
    "        print(f'% of trips within 1-60 min: {((df.duration >= 1) & (df.duration<=60)).mean()}')\n",
    "    \n",
    "    df = df[(df.duration >= 1) & (df.duration<=60)]\n",
    "\n",
    "    if not categorical_features:\n",
    "        categorical_features = ['PULocationID', 'DOLocationID']\n",
    "    if not numerical_features:\n",
    "        numerical_features =  ['trip_distance']\n",
    "    if not target:\n",
    "        target = ['duration']\n",
    "    df[categorical_features] = df[categorical_features].astype('str')\n",
    "    df.drop(df.columns.difference(categorical_features+numerical_features+target), axis=1, inplace=True)    \n",
    "    \n",
    "    if verbose:\n",
    "        print(f'\\nfinal shape: {df.shape}')\n",
    "        print(f'\\nfinal types:\\n{df.dtypes}')\n",
    "        print(f'\\ncategorical_features: {categorical_features}')\n",
    "        print(f'\\nnumerical_features: {numerical_features}')\n",
    "        print(f'\\ntarget: {target}')       \n",
    "    \n",
    "    return df[categorical_features+numerical_features],df[target] \n",
    "    "
   ]
  },
  {
   "cell_type": "code",
   "execution_count": 90,
   "id": "4be7943d",
   "metadata": {},
   "outputs": [
    {
     "data": {
      "text/plain": [
       "(76518, 20)"
      ]
     },
     "execution_count": 90,
     "metadata": {},
     "output_type": "execute_result"
    }
   ],
   "source": [
    "df = pd.read_parquet(data_sources[0])\n",
    "df.shape"
   ]
  },
  {
   "cell_type": "code",
   "execution_count": 51,
   "id": "b6739216",
   "metadata": {},
   "outputs": [
    {
     "data": {
      "text/plain": [
       "Index(['vendorid', 'lpep_pickup_datetime', 'lpep_dropoff_datetime',\n",
       "       'store_and_fwd_flag', 'ratecodeid', 'pulocationid', 'dolocationid',\n",
       "       'passenger_count', 'trip_distance', 'fare_amount', 'extra', 'mta_tax',\n",
       "       'tip_amount', 'tolls_amount', 'ehail_fee', 'improvement_surcharge',\n",
       "       'total_amount', 'payment_type', 'trip_type', 'congestion_surcharge'],\n",
       "      dtype='object')"
      ]
     },
     "execution_count": 51,
     "metadata": {},
     "output_type": "execute_result"
    }
   ],
   "source": [
    "df.columns.str.lower().str.replace(' ','_')"
   ]
  },
  {
   "cell_type": "code",
   "execution_count": 52,
   "id": "e0f0bc7e",
   "metadata": {},
   "outputs": [
    {
     "data": {
      "text/plain": [
       "VendorID                          int64\n",
       "lpep_pickup_datetime     datetime64[ns]\n",
       "lpep_dropoff_datetime    datetime64[ns]\n",
       "store_and_fwd_flag               object\n",
       "RatecodeID                      float64\n",
       "PULocationID                      int64\n",
       "DOLocationID                      int64\n",
       "passenger_count                 float64\n",
       "trip_distance                   float64\n",
       "fare_amount                     float64\n",
       "extra                           float64\n",
       "mta_tax                         float64\n",
       "tip_amount                      float64\n",
       "tolls_amount                    float64\n",
       "ehail_fee                        object\n",
       "improvement_surcharge           float64\n",
       "total_amount                    float64\n",
       "payment_type                    float64\n",
       "trip_type                       float64\n",
       "congestion_surcharge            float64\n",
       "dtype: object"
      ]
     },
     "execution_count": 52,
     "metadata": {},
     "output_type": "execute_result"
    }
   ],
   "source": [
    "df.dtypes"
   ]
  },
  {
   "cell_type": "code",
   "execution_count": 53,
   "id": "079f9962",
   "metadata": {},
   "outputs": [],
   "source": [
    "categorical_columns = list(df.dtypes[df.dtypes == 'object'].index)\n",
    "numerical_columns = list(df.dtypes[df.dtypes != 'object'].index)"
   ]
  },
  {
   "cell_type": "code",
   "execution_count": 54,
   "id": "272d607a",
   "metadata": {},
   "outputs": [],
   "source": [
    "for column in categorical_columns:\n",
    "    # This will not touch the None values, only the not None types are processed (type(df['store_and_fwd_flag'].iloc[-1]) => 'NoneType')\n",
    "    df[column] = df[column].str.lower().str.replace(' ', '_')"
   ]
  },
  {
   "cell_type": "code",
   "execution_count": 55,
   "id": "67cf813d",
   "metadata": {},
   "outputs": [
    {
     "data": {
      "text/html": [
       "<div>\n",
       "<style scoped>\n",
       "    .dataframe tbody tr th:only-of-type {\n",
       "        vertical-align: middle;\n",
       "    }\n",
       "\n",
       "    .dataframe tbody tr th {\n",
       "        vertical-align: top;\n",
       "    }\n",
       "\n",
       "    .dataframe thead th {\n",
       "        text-align: right;\n",
       "    }\n",
       "</style>\n",
       "<table border=\"1\" class=\"dataframe\">\n",
       "  <thead>\n",
       "    <tr style=\"text-align: right;\">\n",
       "      <th></th>\n",
       "      <th>0</th>\n",
       "      <th>1</th>\n",
       "      <th>2</th>\n",
       "      <th>3</th>\n",
       "      <th>4</th>\n",
       "    </tr>\n",
       "  </thead>\n",
       "  <tbody>\n",
       "    <tr>\n",
       "      <th>VendorID</th>\n",
       "      <td>2</td>\n",
       "      <td>2</td>\n",
       "      <td>2</td>\n",
       "      <td>2</td>\n",
       "      <td>2</td>\n",
       "    </tr>\n",
       "    <tr>\n",
       "      <th>lpep_pickup_datetime</th>\n",
       "      <td>2021-01-01 00:15:56</td>\n",
       "      <td>2021-01-01 00:25:59</td>\n",
       "      <td>2021-01-01 00:45:57</td>\n",
       "      <td>2020-12-31 23:57:51</td>\n",
       "      <td>2021-01-01 00:16:36</td>\n",
       "    </tr>\n",
       "    <tr>\n",
       "      <th>lpep_dropoff_datetime</th>\n",
       "      <td>2021-01-01 00:19:52</td>\n",
       "      <td>2021-01-01 00:34:44</td>\n",
       "      <td>2021-01-01 00:51:55</td>\n",
       "      <td>2021-01-01 00:04:56</td>\n",
       "      <td>2021-01-01 00:16:40</td>\n",
       "    </tr>\n",
       "    <tr>\n",
       "      <th>store_and_fwd_flag</th>\n",
       "      <td>n</td>\n",
       "      <td>n</td>\n",
       "      <td>n</td>\n",
       "      <td>n</td>\n",
       "      <td>n</td>\n",
       "    </tr>\n",
       "    <tr>\n",
       "      <th>RatecodeID</th>\n",
       "      <td>1.0</td>\n",
       "      <td>1.0</td>\n",
       "      <td>1.0</td>\n",
       "      <td>1.0</td>\n",
       "      <td>2.0</td>\n",
       "    </tr>\n",
       "    <tr>\n",
       "      <th>PULocationID</th>\n",
       "      <td>43</td>\n",
       "      <td>166</td>\n",
       "      <td>41</td>\n",
       "      <td>168</td>\n",
       "      <td>265</td>\n",
       "    </tr>\n",
       "    <tr>\n",
       "      <th>DOLocationID</th>\n",
       "      <td>151</td>\n",
       "      <td>239</td>\n",
       "      <td>42</td>\n",
       "      <td>75</td>\n",
       "      <td>265</td>\n",
       "    </tr>\n",
       "    <tr>\n",
       "      <th>passenger_count</th>\n",
       "      <td>1.0</td>\n",
       "      <td>1.0</td>\n",
       "      <td>1.0</td>\n",
       "      <td>1.0</td>\n",
       "      <td>3.0</td>\n",
       "    </tr>\n",
       "    <tr>\n",
       "      <th>trip_distance</th>\n",
       "      <td>1.01</td>\n",
       "      <td>2.53</td>\n",
       "      <td>1.12</td>\n",
       "      <td>1.99</td>\n",
       "      <td>0.0</td>\n",
       "    </tr>\n",
       "    <tr>\n",
       "      <th>fare_amount</th>\n",
       "      <td>5.5</td>\n",
       "      <td>10.0</td>\n",
       "      <td>6.0</td>\n",
       "      <td>8.0</td>\n",
       "      <td>-52.0</td>\n",
       "    </tr>\n",
       "    <tr>\n",
       "      <th>extra</th>\n",
       "      <td>0.5</td>\n",
       "      <td>0.5</td>\n",
       "      <td>0.5</td>\n",
       "      <td>0.5</td>\n",
       "      <td>0.0</td>\n",
       "    </tr>\n",
       "    <tr>\n",
       "      <th>mta_tax</th>\n",
       "      <td>0.5</td>\n",
       "      <td>0.5</td>\n",
       "      <td>0.5</td>\n",
       "      <td>0.5</td>\n",
       "      <td>-0.5</td>\n",
       "    </tr>\n",
       "    <tr>\n",
       "      <th>tip_amount</th>\n",
       "      <td>0.0</td>\n",
       "      <td>2.81</td>\n",
       "      <td>1.0</td>\n",
       "      <td>0.0</td>\n",
       "      <td>0.0</td>\n",
       "    </tr>\n",
       "    <tr>\n",
       "      <th>tolls_amount</th>\n",
       "      <td>0.0</td>\n",
       "      <td>0.0</td>\n",
       "      <td>0.0</td>\n",
       "      <td>0.0</td>\n",
       "      <td>0.0</td>\n",
       "    </tr>\n",
       "    <tr>\n",
       "      <th>ehail_fee</th>\n",
       "      <td>None</td>\n",
       "      <td>None</td>\n",
       "      <td>None</td>\n",
       "      <td>None</td>\n",
       "      <td>None</td>\n",
       "    </tr>\n",
       "    <tr>\n",
       "      <th>improvement_surcharge</th>\n",
       "      <td>0.3</td>\n",
       "      <td>0.3</td>\n",
       "      <td>0.3</td>\n",
       "      <td>0.3</td>\n",
       "      <td>-0.3</td>\n",
       "    </tr>\n",
       "    <tr>\n",
       "      <th>total_amount</th>\n",
       "      <td>6.8</td>\n",
       "      <td>16.86</td>\n",
       "      <td>8.3</td>\n",
       "      <td>9.3</td>\n",
       "      <td>-52.8</td>\n",
       "    </tr>\n",
       "    <tr>\n",
       "      <th>payment_type</th>\n",
       "      <td>2.0</td>\n",
       "      <td>1.0</td>\n",
       "      <td>1.0</td>\n",
       "      <td>2.0</td>\n",
       "      <td>3.0</td>\n",
       "    </tr>\n",
       "    <tr>\n",
       "      <th>trip_type</th>\n",
       "      <td>1.0</td>\n",
       "      <td>1.0</td>\n",
       "      <td>1.0</td>\n",
       "      <td>1.0</td>\n",
       "      <td>1.0</td>\n",
       "    </tr>\n",
       "    <tr>\n",
       "      <th>congestion_surcharge</th>\n",
       "      <td>0.0</td>\n",
       "      <td>2.75</td>\n",
       "      <td>0.0</td>\n",
       "      <td>0.0</td>\n",
       "      <td>0.0</td>\n",
       "    </tr>\n",
       "  </tbody>\n",
       "</table>\n",
       "</div>"
      ],
      "text/plain": [
       "                                         0                    1  \\\n",
       "VendorID                                 2                    2   \n",
       "lpep_pickup_datetime   2021-01-01 00:15:56  2021-01-01 00:25:59   \n",
       "lpep_dropoff_datetime  2021-01-01 00:19:52  2021-01-01 00:34:44   \n",
       "store_and_fwd_flag                       n                    n   \n",
       "RatecodeID                             1.0                  1.0   \n",
       "PULocationID                            43                  166   \n",
       "DOLocationID                           151                  239   \n",
       "passenger_count                        1.0                  1.0   \n",
       "trip_distance                         1.01                 2.53   \n",
       "fare_amount                            5.5                 10.0   \n",
       "extra                                  0.5                  0.5   \n",
       "mta_tax                                0.5                  0.5   \n",
       "tip_amount                             0.0                 2.81   \n",
       "tolls_amount                           0.0                  0.0   \n",
       "ehail_fee                             None                 None   \n",
       "improvement_surcharge                  0.3                  0.3   \n",
       "total_amount                           6.8                16.86   \n",
       "payment_type                           2.0                  1.0   \n",
       "trip_type                              1.0                  1.0   \n",
       "congestion_surcharge                   0.0                 2.75   \n",
       "\n",
       "                                         2                    3  \\\n",
       "VendorID                                 2                    2   \n",
       "lpep_pickup_datetime   2021-01-01 00:45:57  2020-12-31 23:57:51   \n",
       "lpep_dropoff_datetime  2021-01-01 00:51:55  2021-01-01 00:04:56   \n",
       "store_and_fwd_flag                       n                    n   \n",
       "RatecodeID                             1.0                  1.0   \n",
       "PULocationID                            41                  168   \n",
       "DOLocationID                            42                   75   \n",
       "passenger_count                        1.0                  1.0   \n",
       "trip_distance                         1.12                 1.99   \n",
       "fare_amount                            6.0                  8.0   \n",
       "extra                                  0.5                  0.5   \n",
       "mta_tax                                0.5                  0.5   \n",
       "tip_amount                             1.0                  0.0   \n",
       "tolls_amount                           0.0                  0.0   \n",
       "ehail_fee                             None                 None   \n",
       "improvement_surcharge                  0.3                  0.3   \n",
       "total_amount                           8.3                  9.3   \n",
       "payment_type                           1.0                  2.0   \n",
       "trip_type                              1.0                  1.0   \n",
       "congestion_surcharge                   0.0                  0.0   \n",
       "\n",
       "                                         4  \n",
       "VendorID                                 2  \n",
       "lpep_pickup_datetime   2021-01-01 00:16:36  \n",
       "lpep_dropoff_datetime  2021-01-01 00:16:40  \n",
       "store_and_fwd_flag                       n  \n",
       "RatecodeID                             2.0  \n",
       "PULocationID                           265  \n",
       "DOLocationID                           265  \n",
       "passenger_count                        3.0  \n",
       "trip_distance                          0.0  \n",
       "fare_amount                          -52.0  \n",
       "extra                                  0.0  \n",
       "mta_tax                               -0.5  \n",
       "tip_amount                             0.0  \n",
       "tolls_amount                           0.0  \n",
       "ehail_fee                             None  \n",
       "improvement_surcharge                 -0.3  \n",
       "total_amount                         -52.8  \n",
       "payment_type                           3.0  \n",
       "trip_type                              1.0  \n",
       "congestion_surcharge                   0.0  "
      ]
     },
     "execution_count": 55,
     "metadata": {},
     "output_type": "execute_result"
    }
   ],
   "source": [
    "df.head().T"
   ]
  },
  {
   "cell_type": "code",
   "execution_count": 56,
   "id": "25404ad9",
   "metadata": {},
   "outputs": [
    {
     "data": {
      "text/plain": [
       "VendorID                          int64\n",
       "lpep_pickup_datetime     datetime64[ns]\n",
       "lpep_dropoff_datetime    datetime64[ns]\n",
       "store_and_fwd_flag               object\n",
       "RatecodeID                      float64\n",
       "PULocationID                      int64\n",
       "DOLocationID                      int64\n",
       "passenger_count                 float64\n",
       "trip_distance                   float64\n",
       "fare_amount                     float64\n",
       "extra                           float64\n",
       "mta_tax                         float64\n",
       "tip_amount                      float64\n",
       "tolls_amount                    float64\n",
       "ehail_fee                        object\n",
       "improvement_surcharge           float64\n",
       "total_amount                    float64\n",
       "payment_type                    float64\n",
       "trip_type                       float64\n",
       "congestion_surcharge            float64\n",
       "dtype: object"
      ]
     },
     "execution_count": 56,
     "metadata": {},
     "output_type": "execute_result"
    }
   ],
   "source": [
    "df.dtypes"
   ]
  },
  {
   "cell_type": "code",
   "execution_count": 57,
   "id": "b08a55a4",
   "metadata": {
    "scrolled": false
   },
   "outputs": [
    {
     "data": {
      "text/plain": [
       "'VendorID'"
      ]
     },
     "metadata": {},
     "output_type": "display_data"
    },
    {
     "data": {
      "text/plain": [
       "array([2, 1], dtype=int64)"
      ]
     },
     "metadata": {},
     "output_type": "display_data"
    },
    {
     "data": {
      "text/plain": [
       "'lpep_pickup_datetime'"
      ]
     },
     "metadata": {},
     "output_type": "display_data"
    },
    {
     "data": {
      "text/plain": [
       "array(['2021-01-01T00:15:56.000000000', '2021-01-01T00:25:59.000000000',\n",
       "       '2021-01-01T00:45:57.000000000', ...,\n",
       "       '2021-01-31T22:16:00.000000000', '2021-01-31T23:10:00.000000000',\n",
       "       '2021-01-31T23:25:00.000000000'], dtype='datetime64[ns]')"
      ]
     },
     "metadata": {},
     "output_type": "display_data"
    },
    {
     "data": {
      "text/plain": [
       "'lpep_dropoff_datetime'"
      ]
     },
     "metadata": {},
     "output_type": "display_data"
    },
    {
     "data": {
      "text/plain": [
       "array(['2021-01-01T00:19:52.000000000', '2021-01-01T00:34:44.000000000',\n",
       "       '2021-01-01T00:51:55.000000000', ...,\n",
       "       '2021-01-31T22:27:00.000000000', '2021-01-31T23:37:00.000000000',\n",
       "       '2021-01-31T23:35:00.000000000'], dtype='datetime64[ns]')"
      ]
     },
     "metadata": {},
     "output_type": "display_data"
    },
    {
     "data": {
      "text/plain": [
       "'store_and_fwd_flag'"
      ]
     },
     "metadata": {},
     "output_type": "display_data"
    },
    {
     "data": {
      "text/plain": [
       "array(['n', 'y', None], dtype=object)"
      ]
     },
     "metadata": {},
     "output_type": "display_data"
    },
    {
     "data": {
      "text/plain": [
       "'RatecodeID'"
      ]
     },
     "metadata": {},
     "output_type": "display_data"
    },
    {
     "data": {
      "text/plain": [
       "array([ 1.,  2.,  5.,  4., 99.,  3., nan])"
      ]
     },
     "metadata": {},
     "output_type": "display_data"
    },
    {
     "data": {
      "text/plain": [
       "'PULocationID'"
      ]
     },
     "metadata": {},
     "output_type": "display_data"
    },
    {
     "data": {
      "text/plain": [
       "array([ 43, 166,  41, 168, 265,  75, 225, 244,  74,  42, 116,   7, 152,\n",
       "        82, 259, 247,  17, 173,  47, 179,  95, 236,  65,  14, 235,  37,\n",
       "       167, 256,  28, 129, 136,  78,  69, 112, 119,  32, 250, 159, 248,\n",
       "       138,  72, 183, 243, 242, 181, 130,  70,  89, 197,  52, 205,  49,\n",
       "       193,  97,  76,  33, 213, 122,  20, 133, 169,  22,  18, 189, 264,\n",
       "       254, 195,  85, 115, 196, 132,  44,  56,  60, 210, 227,  61,  66,\n",
       "        55, 134,  24, 157,  92, 145,  25, 228, 182,  40,  86, 263, 127,\n",
       "       241, 174, 194, 260, 216, 226,  10, 146,  62,  36, 185, 153, 135,\n",
       "        94, 255, 177, 102,  15, 220, 178, 240, 155, 147, 106,  46, 108,\n",
       "        19, 191,  83,  93, 215, 223, 188, 171,  91,  98,   3,  35, 258,\n",
       "       222,  21,  39, 219,  63,  23, 218, 207, 117,  51, 212, 123,  16,\n",
       "       121,  77, 217,  29, 208,  31, 151, 229,  38,  84, 245, 140,  80,\n",
       "       198, 160, 150, 262, 131, 192,  11, 190, 128, 201, 238, 165,  73,\n",
       "       120, 124,  57,  26, 214, 170, 184,  67, 118, 149, 200,  48, 161,\n",
       "        90, 252,  71, 101, 224,  68, 137,  58, 206, 126, 203, 139,  54,\n",
       "       257,  59,  64, 175,  87, 202, 113,  53,  34, 209, 261,  81, 221,\n",
       "       142,   8, 180, 144, 231, 156,  96,   1, 148, 154,  45,   4, 163,\n",
       "       143,   9, 172, 237, 239, 234, 186, 107,  13, 232, 141,  79, 162,\n",
       "       233,  50, 114, 246, 164, 100, 230, 125,  88, 249, 211,  27, 158,\n",
       "        12, 253, 187, 176], dtype=int64)"
      ]
     },
     "metadata": {},
     "output_type": "display_data"
    },
    {
     "data": {
      "text/plain": [
       "'DOLocationID'"
      ]
     },
     "metadata": {},
     "output_type": "display_data"
    },
    {
     "data": {
      "text/plain": [
       "array([151, 239,  42,  75, 265, 225, 244, 213, 238,  60,  41, 264, 116,\n",
       "       143,  82, 117,  74,  69, 167, 119, 107, 247,  56, 233, 260,  24,\n",
       "       166,   7, 159, 145,  13,  14, 168,  94, 141, 232,  78,  17, 164,\n",
       "        28, 142, 129, 212, 241,  97, 136, 249, 248,  55,  50, 140,  81,\n",
       "       134, 169, 236, 263, 152, 237, 138,  48, 173,  76, 135,  10, 259,\n",
       "       188, 215,  46, 121, 147,  86, 130, 122, 216, 163, 144, 100, 137,\n",
       "       211, 132, 179,   4,  49,  65,  22,  43, 194, 191,  33,  47,  66,\n",
       "        52, 240,  18, 189, 106,  95, 146, 262,  89, 108,  44, 195, 227,\n",
       "        20,  12, 190,  90, 197, 115, 126,  61, 177, 235, 223,  87, 120,\n",
       "       220,  93, 246, 182, 256,  72, 226, 113, 181, 228,  40, 162, 258,\n",
       "       155,  68,  38, 180,  37,  79, 231,  80, 230, 157, 196, 174, 202,\n",
       "        70, 200, 210, 127, 252, 254, 218, 124,  54, 153,  36, 243, 161,\n",
       "       170, 101,  21, 112, 234, 193, 229, 102,  25,  51,  98,  63,  85,\n",
       "       186, 133, 198,  71,  62, 255,  16, 205, 178,  19, 160,  92, 125,\n",
       "       148, 203, 224, 171, 131,  57,  91,  31,  83,  39, 219,   3, 208,\n",
       "       261, 250, 192,  26,  67,  23, 158, 154, 165,  29, 257, 207, 114,\n",
       "       222,  35, 242, 139,  73, 150,  45, 209,  32,  53,  34,  77,  96,\n",
       "       217, 185, 128, 123,  84, 245,  11, 183, 149, 201,  58,  30, 109,\n",
       "       118, 175,   9,  15,   1, 206, 221,  88,   2,  59,  64,   6, 184,\n",
       "       251,   8, 156, 214, 111, 172,  27, 187, 253], dtype=int64)"
      ]
     },
     "metadata": {},
     "output_type": "display_data"
    },
    {
     "data": {
      "text/plain": [
       "'passenger_count'"
      ]
     },
     "metadata": {},
     "output_type": "display_data"
    },
    {
     "data": {
      "text/plain": [
       "array([ 1.,  3.,  6.,  2.,  5.,  0.,  4.,  8., nan])"
      ]
     },
     "metadata": {},
     "output_type": "display_data"
    },
    {
     "data": {
      "text/plain": [
       "'trip_distance'"
      ]
     },
     "metadata": {},
     "output_type": "display_data"
    },
    {
     "data": {
      "text/plain": [
       "array([ 1.01,  2.53,  1.12, ..., 22.43, 19.87, 28.88])"
      ]
     },
     "metadata": {},
     "output_type": "display_data"
    },
    {
     "data": {
      "text/plain": [
       "'fare_amount'"
      ]
     },
     "metadata": {},
     "output_type": "display_data"
    },
    {
     "data": {
      "text/plain": [
       "array([ 5.5 , 10.  ,  6.  , ..., 15.63, 14.48, 56.86])"
      ]
     },
     "metadata": {},
     "output_type": "display_data"
    },
    {
     "data": {
      "text/plain": [
       "'extra'"
      ]
     },
     "metadata": {},
     "output_type": "display_data"
    },
    {
     "data": {
      "text/plain": [
       "array([ 0.5 ,  0.  ,  2.75,  3.75,  1.  ,  3.25, -0.5 , -1.  ,  4.5 ,\n",
       "        1.35,  5.5 ,  8.25, -2.75,  4.09, -5.5 ])"
      ]
     },
     "metadata": {},
     "output_type": "display_data"
    },
    {
     "data": {
      "text/plain": [
       "'mta_tax'"
      ]
     },
     "metadata": {},
     "output_type": "display_data"
    },
    {
     "data": {
      "text/plain": [
       "array([ 0.5, -0.5,  0. ])"
      ]
     },
     "metadata": {},
     "output_type": "display_data"
    },
    {
     "data": {
      "text/plain": [
       "'tip_amount'"
      ]
     },
     "metadata": {},
     "output_type": "display_data"
    },
    {
     "data": {
      "text/plain": [
       "array([ 0.  ,  2.81,  1.  , ..., 12.11,  8.69,  0.14])"
      ]
     },
     "metadata": {},
     "output_type": "display_data"
    },
    {
     "data": {
      "text/plain": [
       "'tolls_amount'"
      ]
     },
     "metadata": {},
     "output_type": "display_data"
    },
    {
     "data": {
      "text/plain": [
       "array([ 0.  ,  6.12,  2.  , 12.24,  2.8 ,  2.29, 19.87,  8.92,  8.41,\n",
       "       13.75, 11.75, 17.87,  5.09, 27.5 , 31.25, 18.36, 16.12,  8.  ,\n",
       "        4.58, 16.82, 10.7 ,  9.5 ,  8.87, 23.5 , 15.04, 30.3 ,  4.75,\n",
       "       16.33,  5.6 , 15.  , 25.5 ])"
      ]
     },
     "metadata": {},
     "output_type": "display_data"
    },
    {
     "data": {
      "text/plain": [
       "'ehail_fee'"
      ]
     },
     "metadata": {},
     "output_type": "display_data"
    },
    {
     "data": {
      "text/plain": [
       "array([None], dtype=object)"
      ]
     },
     "metadata": {},
     "output_type": "display_data"
    },
    {
     "data": {
      "text/plain": [
       "'improvement_surcharge'"
      ]
     },
     "metadata": {},
     "output_type": "display_data"
    },
    {
     "data": {
      "text/plain": [
       "array([ 0.3, -0.3,  0. ])"
      ]
     },
     "metadata": {},
     "output_type": "display_data"
    },
    {
     "data": {
      "text/plain": [
       "'total_amount'"
      ]
     },
     "metadata": {},
     "output_type": "display_data"
    },
    {
     "data": {
      "text/plain": [
       "array([ 6.8 , 16.86,  8.3 , ..., 17.96, 36.63, 66.03])"
      ]
     },
     "metadata": {},
     "output_type": "display_data"
    },
    {
     "data": {
      "text/plain": [
       "'payment_type'"
      ]
     },
     "metadata": {},
     "output_type": "display_data"
    },
    {
     "data": {
      "text/plain": [
       "array([ 2.,  1.,  3.,  4.,  5., nan])"
      ]
     },
     "metadata": {},
     "output_type": "display_data"
    },
    {
     "data": {
      "text/plain": [
       "'trip_type'"
      ]
     },
     "metadata": {},
     "output_type": "display_data"
    },
    {
     "data": {
      "text/plain": [
       "array([ 1.,  2., nan])"
      ]
     },
     "metadata": {},
     "output_type": "display_data"
    },
    {
     "data": {
      "text/plain": [
       "'congestion_surcharge'"
      ]
     },
     "metadata": {},
     "output_type": "display_data"
    },
    {
     "data": {
      "text/plain": [
       "array([0.  , 2.75, 2.5 ,  nan])"
      ]
     },
     "metadata": {},
     "output_type": "display_data"
    }
   ],
   "source": [
    "for c in df.columns:\n",
    "    display(c, df[c].unique())"
   ]
  },
  {
   "cell_type": "code",
   "execution_count": 58,
   "id": "2f56ef06",
   "metadata": {},
   "outputs": [],
   "source": [
    "def convert_to_categorical(df, features):\n",
    "    for feature in features:\n",
    "    # if we convert to string, the NaNs are converted to 'nan', and after that, isnull or isnan will not detect them.\n",
    "    # So keep the NaN objects\n",
    "    # Some problems may appear since we are mixing types... 'str' type with float type (type of float with nan returns 'float')?\n",
    "    # Check the result with uniques(), etc. \n",
    "        df[feature] = np.where(pd.isnull(df[feature]),df[feature],df[feature].astype(str).str.lower().str.replace(' ','_'))   "
   ]
  },
  {
   "cell_type": "code",
   "execution_count": 59,
   "id": "1d269995",
   "metadata": {},
   "outputs": [],
   "source": [
    "# to_convert_to_categorical = ['VendorID','RatecodeID','PULocationID','DOLocationID','payment_type','trip_type']\n",
    "# convert_to_categorical(df, to_convert_to_categorical)\n",
    "df.drop('ehail_fee', axis=1, inplace=True) # Because all the values are None\n",
    "categorical_columns = list(df.dtypes[df.dtypes == 'object'].index)\n",
    "numerical_columns = list(df.dtypes[df.dtypes != 'object'].index)"
   ]
  },
  {
   "cell_type": "code",
   "execution_count": 60,
   "id": "65f34859",
   "metadata": {},
   "outputs": [
    {
     "data": {
      "text/html": [
       "<div>\n",
       "<style scoped>\n",
       "    .dataframe tbody tr th:only-of-type {\n",
       "        vertical-align: middle;\n",
       "    }\n",
       "\n",
       "    .dataframe tbody tr th {\n",
       "        vertical-align: top;\n",
       "    }\n",
       "\n",
       "    .dataframe thead th {\n",
       "        text-align: right;\n",
       "    }\n",
       "</style>\n",
       "<table border=\"1\" class=\"dataframe\">\n",
       "  <thead>\n",
       "    <tr style=\"text-align: right;\">\n",
       "      <th></th>\n",
       "      <th>0</th>\n",
       "      <th>1</th>\n",
       "      <th>2</th>\n",
       "      <th>3</th>\n",
       "      <th>4</th>\n",
       "    </tr>\n",
       "  </thead>\n",
       "  <tbody>\n",
       "    <tr>\n",
       "      <th>VendorID</th>\n",
       "      <td>2</td>\n",
       "      <td>2</td>\n",
       "      <td>2</td>\n",
       "      <td>2</td>\n",
       "      <td>2</td>\n",
       "    </tr>\n",
       "    <tr>\n",
       "      <th>lpep_pickup_datetime</th>\n",
       "      <td>2021-01-01 00:15:56</td>\n",
       "      <td>2021-01-01 00:25:59</td>\n",
       "      <td>2021-01-01 00:45:57</td>\n",
       "      <td>2020-12-31 23:57:51</td>\n",
       "      <td>2021-01-01 00:16:36</td>\n",
       "    </tr>\n",
       "    <tr>\n",
       "      <th>lpep_dropoff_datetime</th>\n",
       "      <td>2021-01-01 00:19:52</td>\n",
       "      <td>2021-01-01 00:34:44</td>\n",
       "      <td>2021-01-01 00:51:55</td>\n",
       "      <td>2021-01-01 00:04:56</td>\n",
       "      <td>2021-01-01 00:16:40</td>\n",
       "    </tr>\n",
       "    <tr>\n",
       "      <th>store_and_fwd_flag</th>\n",
       "      <td>n</td>\n",
       "      <td>n</td>\n",
       "      <td>n</td>\n",
       "      <td>n</td>\n",
       "      <td>n</td>\n",
       "    </tr>\n",
       "    <tr>\n",
       "      <th>RatecodeID</th>\n",
       "      <td>1.0</td>\n",
       "      <td>1.0</td>\n",
       "      <td>1.0</td>\n",
       "      <td>1.0</td>\n",
       "      <td>2.0</td>\n",
       "    </tr>\n",
       "    <tr>\n",
       "      <th>PULocationID</th>\n",
       "      <td>43</td>\n",
       "      <td>166</td>\n",
       "      <td>41</td>\n",
       "      <td>168</td>\n",
       "      <td>265</td>\n",
       "    </tr>\n",
       "    <tr>\n",
       "      <th>DOLocationID</th>\n",
       "      <td>151</td>\n",
       "      <td>239</td>\n",
       "      <td>42</td>\n",
       "      <td>75</td>\n",
       "      <td>265</td>\n",
       "    </tr>\n",
       "    <tr>\n",
       "      <th>passenger_count</th>\n",
       "      <td>1.0</td>\n",
       "      <td>1.0</td>\n",
       "      <td>1.0</td>\n",
       "      <td>1.0</td>\n",
       "      <td>3.0</td>\n",
       "    </tr>\n",
       "    <tr>\n",
       "      <th>trip_distance</th>\n",
       "      <td>1.01</td>\n",
       "      <td>2.53</td>\n",
       "      <td>1.12</td>\n",
       "      <td>1.99</td>\n",
       "      <td>0.0</td>\n",
       "    </tr>\n",
       "    <tr>\n",
       "      <th>fare_amount</th>\n",
       "      <td>5.5</td>\n",
       "      <td>10.0</td>\n",
       "      <td>6.0</td>\n",
       "      <td>8.0</td>\n",
       "      <td>-52.0</td>\n",
       "    </tr>\n",
       "    <tr>\n",
       "      <th>extra</th>\n",
       "      <td>0.5</td>\n",
       "      <td>0.5</td>\n",
       "      <td>0.5</td>\n",
       "      <td>0.5</td>\n",
       "      <td>0.0</td>\n",
       "    </tr>\n",
       "    <tr>\n",
       "      <th>mta_tax</th>\n",
       "      <td>0.5</td>\n",
       "      <td>0.5</td>\n",
       "      <td>0.5</td>\n",
       "      <td>0.5</td>\n",
       "      <td>-0.5</td>\n",
       "    </tr>\n",
       "    <tr>\n",
       "      <th>tip_amount</th>\n",
       "      <td>0.0</td>\n",
       "      <td>2.81</td>\n",
       "      <td>1.0</td>\n",
       "      <td>0.0</td>\n",
       "      <td>0.0</td>\n",
       "    </tr>\n",
       "    <tr>\n",
       "      <th>tolls_amount</th>\n",
       "      <td>0.0</td>\n",
       "      <td>0.0</td>\n",
       "      <td>0.0</td>\n",
       "      <td>0.0</td>\n",
       "      <td>0.0</td>\n",
       "    </tr>\n",
       "    <tr>\n",
       "      <th>improvement_surcharge</th>\n",
       "      <td>0.3</td>\n",
       "      <td>0.3</td>\n",
       "      <td>0.3</td>\n",
       "      <td>0.3</td>\n",
       "      <td>-0.3</td>\n",
       "    </tr>\n",
       "    <tr>\n",
       "      <th>total_amount</th>\n",
       "      <td>6.8</td>\n",
       "      <td>16.86</td>\n",
       "      <td>8.3</td>\n",
       "      <td>9.3</td>\n",
       "      <td>-52.8</td>\n",
       "    </tr>\n",
       "    <tr>\n",
       "      <th>payment_type</th>\n",
       "      <td>2.0</td>\n",
       "      <td>1.0</td>\n",
       "      <td>1.0</td>\n",
       "      <td>2.0</td>\n",
       "      <td>3.0</td>\n",
       "    </tr>\n",
       "    <tr>\n",
       "      <th>trip_type</th>\n",
       "      <td>1.0</td>\n",
       "      <td>1.0</td>\n",
       "      <td>1.0</td>\n",
       "      <td>1.0</td>\n",
       "      <td>1.0</td>\n",
       "    </tr>\n",
       "    <tr>\n",
       "      <th>congestion_surcharge</th>\n",
       "      <td>0.0</td>\n",
       "      <td>2.75</td>\n",
       "      <td>0.0</td>\n",
       "      <td>0.0</td>\n",
       "      <td>0.0</td>\n",
       "    </tr>\n",
       "  </tbody>\n",
       "</table>\n",
       "</div>"
      ],
      "text/plain": [
       "                                         0                    1  \\\n",
       "VendorID                                 2                    2   \n",
       "lpep_pickup_datetime   2021-01-01 00:15:56  2021-01-01 00:25:59   \n",
       "lpep_dropoff_datetime  2021-01-01 00:19:52  2021-01-01 00:34:44   \n",
       "store_and_fwd_flag                       n                    n   \n",
       "RatecodeID                             1.0                  1.0   \n",
       "PULocationID                            43                  166   \n",
       "DOLocationID                           151                  239   \n",
       "passenger_count                        1.0                  1.0   \n",
       "trip_distance                         1.01                 2.53   \n",
       "fare_amount                            5.5                 10.0   \n",
       "extra                                  0.5                  0.5   \n",
       "mta_tax                                0.5                  0.5   \n",
       "tip_amount                             0.0                 2.81   \n",
       "tolls_amount                           0.0                  0.0   \n",
       "improvement_surcharge                  0.3                  0.3   \n",
       "total_amount                           6.8                16.86   \n",
       "payment_type                           2.0                  1.0   \n",
       "trip_type                              1.0                  1.0   \n",
       "congestion_surcharge                   0.0                 2.75   \n",
       "\n",
       "                                         2                    3  \\\n",
       "VendorID                                 2                    2   \n",
       "lpep_pickup_datetime   2021-01-01 00:45:57  2020-12-31 23:57:51   \n",
       "lpep_dropoff_datetime  2021-01-01 00:51:55  2021-01-01 00:04:56   \n",
       "store_and_fwd_flag                       n                    n   \n",
       "RatecodeID                             1.0                  1.0   \n",
       "PULocationID                            41                  168   \n",
       "DOLocationID                            42                   75   \n",
       "passenger_count                        1.0                  1.0   \n",
       "trip_distance                         1.12                 1.99   \n",
       "fare_amount                            6.0                  8.0   \n",
       "extra                                  0.5                  0.5   \n",
       "mta_tax                                0.5                  0.5   \n",
       "tip_amount                             1.0                  0.0   \n",
       "tolls_amount                           0.0                  0.0   \n",
       "improvement_surcharge                  0.3                  0.3   \n",
       "total_amount                           8.3                  9.3   \n",
       "payment_type                           1.0                  2.0   \n",
       "trip_type                              1.0                  1.0   \n",
       "congestion_surcharge                   0.0                  0.0   \n",
       "\n",
       "                                         4  \n",
       "VendorID                                 2  \n",
       "lpep_pickup_datetime   2021-01-01 00:16:36  \n",
       "lpep_dropoff_datetime  2021-01-01 00:16:40  \n",
       "store_and_fwd_flag                       n  \n",
       "RatecodeID                             2.0  \n",
       "PULocationID                           265  \n",
       "DOLocationID                           265  \n",
       "passenger_count                        3.0  \n",
       "trip_distance                          0.0  \n",
       "fare_amount                          -52.0  \n",
       "extra                                  0.0  \n",
       "mta_tax                               -0.5  \n",
       "tip_amount                             0.0  \n",
       "tolls_amount                           0.0  \n",
       "improvement_surcharge                 -0.3  \n",
       "total_amount                         -52.8  \n",
       "payment_type                           3.0  \n",
       "trip_type                              1.0  \n",
       "congestion_surcharge                   0.0  "
      ]
     },
     "execution_count": 60,
     "metadata": {},
     "output_type": "execute_result"
    }
   ],
   "source": [
    "df.head().T"
   ]
  },
  {
   "cell_type": "code",
   "execution_count": 61,
   "id": "31556ca7",
   "metadata": {},
   "outputs": [
    {
     "data": {
      "text/plain": [
       "VendorID                          int64\n",
       "lpep_pickup_datetime     datetime64[ns]\n",
       "lpep_dropoff_datetime    datetime64[ns]\n",
       "store_and_fwd_flag               object\n",
       "RatecodeID                      float64\n",
       "PULocationID                      int64\n",
       "DOLocationID                      int64\n",
       "passenger_count                 float64\n",
       "trip_distance                   float64\n",
       "fare_amount                     float64\n",
       "extra                           float64\n",
       "mta_tax                         float64\n",
       "tip_amount                      float64\n",
       "tolls_amount                    float64\n",
       "improvement_surcharge           float64\n",
       "total_amount                    float64\n",
       "payment_type                    float64\n",
       "trip_type                       float64\n",
       "congestion_surcharge            float64\n",
       "dtype: object"
      ]
     },
     "execution_count": 61,
     "metadata": {},
     "output_type": "execute_result"
    }
   ],
   "source": [
    "df.dtypes"
   ]
  },
  {
   "cell_type": "markdown",
   "id": "24c26b91",
   "metadata": {},
   "source": [
    "# EDA\n",
    "- Check missing values\n",
    "- Look at numerical and categorical variables\n",
    "- Generate output to predict (trip duration)\n",
    "- Check distribution of trip duration\n",
    "- Mutual information\n",
    "- Correlation"
   ]
  },
  {
   "cell_type": "code",
   "execution_count": 62,
   "id": "9cebc8a7",
   "metadata": {},
   "outputs": [
    {
     "data": {
      "text/plain": [
       "'Feature: store_and_fwd_flag'"
      ]
     },
     "metadata": {},
     "output_type": "display_data"
    },
    {
     "data": {
      "text/plain": [
       "'Number of unique values: 2'"
      ]
     },
     "metadata": {},
     "output_type": "display_data"
    },
    {
     "data": {
      "text/plain": [
       "'Number of nulls: 36047'"
      ]
     },
     "metadata": {},
     "output_type": "display_data"
    },
    {
     "data": {
      "text/plain": [
       "n    0.993427\n",
       "y    0.006573\n",
       "Name: store_and_fwd_flag, dtype: float64"
      ]
     },
     "metadata": {},
     "output_type": "display_data"
    }
   ],
   "source": [
    "for column in categorical_columns:\n",
    "    display(f'Feature: {column}')\n",
    "    display(f'Number of unique values: {df[column].nunique()}')\n",
    "    display(f'Number of nulls: {df[column].isnull().sum()}')\n",
    "    display(df[column].value_counts(normalize=True))"
   ]
  },
  {
   "cell_type": "code",
   "execution_count": 63,
   "id": "a1ec621b",
   "metadata": {},
   "outputs": [
    {
     "data": {
      "text/plain": [
       "'Feature: VendorID'"
      ]
     },
     "metadata": {},
     "output_type": "display_data"
    },
    {
     "data": {
      "text/plain": [
       "'Number of unique values: 2'"
      ]
     },
     "metadata": {},
     "output_type": "display_data"
    },
    {
     "data": {
      "text/plain": [
       "'Number of nulls: 0'"
      ]
     },
     "metadata": {},
     "output_type": "display_data"
    },
    {
     "data": {
      "text/plain": [
       "2    69271\n",
       "1     7247\n",
       "Name: VendorID, dtype: int64"
      ]
     },
     "metadata": {},
     "output_type": "display_data"
    },
    {
     "data": {
      "text/plain": [
       "'Feature: lpep_pickup_datetime'"
      ]
     },
     "metadata": {},
     "output_type": "display_data"
    },
    {
     "data": {
      "text/plain": [
       "'Number of unique values: 58565'"
      ]
     },
     "metadata": {},
     "output_type": "display_data"
    },
    {
     "data": {
      "text/plain": [
       "'Number of nulls: 0'"
      ]
     },
     "metadata": {},
     "output_type": "display_data"
    },
    {
     "data": {
      "text/plain": [
       "'Feature: lpep_dropoff_datetime'"
      ]
     },
     "metadata": {},
     "output_type": "display_data"
    },
    {
     "data": {
      "text/plain": [
       "'Number of unique values: 58604'"
      ]
     },
     "metadata": {},
     "output_type": "display_data"
    },
    {
     "data": {
      "text/plain": [
       "'Number of nulls: 0'"
      ]
     },
     "metadata": {},
     "output_type": "display_data"
    },
    {
     "data": {
      "text/plain": [
       "'Feature: RatecodeID'"
      ]
     },
     "metadata": {},
     "output_type": "display_data"
    },
    {
     "data": {
      "text/plain": [
       "'Number of unique values: 6'"
      ]
     },
     "metadata": {},
     "output_type": "display_data"
    },
    {
     "data": {
      "text/plain": [
       "'Number of nulls: 36047'"
      ]
     },
     "metadata": {},
     "output_type": "display_data"
    },
    {
     "data": {
      "text/plain": [
       "1.0     38994\n",
       "5.0      1381\n",
       "2.0        55\n",
       "4.0        32\n",
       "3.0         8\n",
       "99.0        1\n",
       "Name: RatecodeID, dtype: int64"
      ]
     },
     "metadata": {},
     "output_type": "display_data"
    },
    {
     "data": {
      "text/plain": [
       "'Feature: PULocationID'"
      ]
     },
     "metadata": {},
     "output_type": "display_data"
    },
    {
     "data": {
      "text/plain": [
       "'Number of unique values: 251'"
      ]
     },
     "metadata": {},
     "output_type": "display_data"
    },
    {
     "data": {
      "text/plain": [
       "'Number of nulls: 0'"
      ]
     },
     "metadata": {},
     "output_type": "display_data"
    },
    {
     "data": {
      "text/plain": [
       "'Feature: DOLocationID'"
      ]
     },
     "metadata": {},
     "output_type": "display_data"
    },
    {
     "data": {
      "text/plain": [
       "'Number of unique values: 256'"
      ]
     },
     "metadata": {},
     "output_type": "display_data"
    },
    {
     "data": {
      "text/plain": [
       "'Number of nulls: 0'"
      ]
     },
     "metadata": {},
     "output_type": "display_data"
    },
    {
     "data": {
      "text/plain": [
       "'Feature: passenger_count'"
      ]
     },
     "metadata": {},
     "output_type": "display_data"
    },
    {
     "data": {
      "text/plain": [
       "'Number of unique values: 8'"
      ]
     },
     "metadata": {},
     "output_type": "display_data"
    },
    {
     "data": {
      "text/plain": [
       "'Number of nulls: 36047'"
      ]
     },
     "metadata": {},
     "output_type": "display_data"
    },
    {
     "data": {
      "text/plain": [
       "1.0    36446\n",
       "2.0     2370\n",
       "5.0      711\n",
       "3.0      323\n",
       "6.0      320\n",
       "4.0      152\n",
       "0.0      147\n",
       "8.0        2\n",
       "Name: passenger_count, dtype: int64"
      ]
     },
     "metadata": {},
     "output_type": "display_data"
    },
    {
     "data": {
      "text/plain": [
       "'Feature: trip_distance'"
      ]
     },
     "metadata": {},
     "output_type": "display_data"
    },
    {
     "data": {
      "text/plain": [
       "'Number of unique values: 2939'"
      ]
     },
     "metadata": {},
     "output_type": "display_data"
    },
    {
     "data": {
      "text/plain": [
       "'Number of nulls: 0'"
      ]
     },
     "metadata": {},
     "output_type": "display_data"
    },
    {
     "data": {
      "text/plain": [
       "'Feature: fare_amount'"
      ]
     },
     "metadata": {},
     "output_type": "display_data"
    },
    {
     "data": {
      "text/plain": [
       "'Number of unique values: 3399'"
      ]
     },
     "metadata": {},
     "output_type": "display_data"
    },
    {
     "data": {
      "text/plain": [
       "'Number of nulls: 0'"
      ]
     },
     "metadata": {},
     "output_type": "display_data"
    },
    {
     "data": {
      "text/plain": [
       "'Feature: extra'"
      ]
     },
     "metadata": {},
     "output_type": "display_data"
    },
    {
     "data": {
      "text/plain": [
       "'Number of unique values: 15'"
      ]
     },
     "metadata": {},
     "output_type": "display_data"
    },
    {
     "data": {
      "text/plain": [
       "'Number of nulls: 0'"
      ]
     },
     "metadata": {},
     "output_type": "display_data"
    },
    {
     "data": {
      "text/plain": [
       " 0.00    47616\n",
       " 2.75    14551\n",
       " 1.00     7433\n",
       " 0.50     5229\n",
       " 5.50      693\n",
       " 3.75      397\n",
       " 3.25      261\n",
       " 1.35      260\n",
       " 4.09       24\n",
       "-0.50       21\n",
       "-1.00       21\n",
       " 4.50        6\n",
       "-2.75        3\n",
       " 8.25        2\n",
       "-5.50        1\n",
       "Name: extra, dtype: int64"
      ]
     },
     "metadata": {},
     "output_type": "display_data"
    },
    {
     "data": {
      "text/plain": [
       "'Feature: mta_tax'"
      ]
     },
     "metadata": {},
     "output_type": "display_data"
    },
    {
     "data": {
      "text/plain": [
       "'Number of unique values: 3'"
      ]
     },
     "metadata": {},
     "output_type": "display_data"
    },
    {
     "data": {
      "text/plain": [
       "'Number of nulls: 0'"
      ]
     },
     "metadata": {},
     "output_type": "display_data"
    },
    {
     "data": {
      "text/plain": [
       " 0.5    39002\n",
       " 0.0    37401\n",
       "-0.5      115\n",
       "Name: mta_tax, dtype: int64"
      ]
     },
     "metadata": {},
     "output_type": "display_data"
    },
    {
     "data": {
      "text/plain": [
       "'Feature: tip_amount'"
      ]
     },
     "metadata": {},
     "output_type": "display_data"
    },
    {
     "data": {
      "text/plain": [
       "'Number of unique values: 1017'"
      ]
     },
     "metadata": {},
     "output_type": "display_data"
    },
    {
     "data": {
      "text/plain": [
       "'Number of nulls: 0'"
      ]
     },
     "metadata": {},
     "output_type": "display_data"
    },
    {
     "data": {
      "text/plain": [
       "'Feature: tolls_amount'"
      ]
     },
     "metadata": {},
     "output_type": "display_data"
    },
    {
     "data": {
      "text/plain": [
       "'Number of unique values: 31'"
      ]
     },
     "metadata": {},
     "output_type": "display_data"
    },
    {
     "data": {
      "text/plain": [
       "'Number of nulls: 0'"
      ]
     },
     "metadata": {},
     "output_type": "display_data"
    },
    {
     "data": {
      "text/plain": [
       "'Feature: improvement_surcharge'"
      ]
     },
     "metadata": {},
     "output_type": "display_data"
    },
    {
     "data": {
      "text/plain": [
       "'Number of unique values: 3'"
      ]
     },
     "metadata": {},
     "output_type": "display_data"
    },
    {
     "data": {
      "text/plain": [
       "'Number of nulls: 0'"
      ]
     },
     "metadata": {},
     "output_type": "display_data"
    },
    {
     "data": {
      "text/plain": [
       " 0.3    76172\n",
       " 0.0      218\n",
       "-0.3      128\n",
       "Name: improvement_surcharge, dtype: int64"
      ]
     },
     "metadata": {},
     "output_type": "display_data"
    },
    {
     "data": {
      "text/plain": [
       "'Feature: total_amount'"
      ]
     },
     "metadata": {},
     "output_type": "display_data"
    },
    {
     "data": {
      "text/plain": [
       "'Number of unique values: 3982'"
      ]
     },
     "metadata": {},
     "output_type": "display_data"
    },
    {
     "data": {
      "text/plain": [
       "'Number of nulls: 0'"
      ]
     },
     "metadata": {},
     "output_type": "display_data"
    },
    {
     "data": {
      "text/plain": [
       "'Feature: payment_type'"
      ]
     },
     "metadata": {},
     "output_type": "display_data"
    },
    {
     "data": {
      "text/plain": [
       "'Number of unique values: 5'"
      ]
     },
     "metadata": {},
     "output_type": "display_data"
    },
    {
     "data": {
      "text/plain": [
       "'Number of nulls: 36047'"
      ]
     },
     "metadata": {},
     "output_type": "display_data"
    },
    {
     "data": {
      "text/plain": [
       "1.0    24438\n",
       "2.0    15681\n",
       "3.0      270\n",
       "4.0       79\n",
       "5.0        3\n",
       "Name: payment_type, dtype: int64"
      ]
     },
     "metadata": {},
     "output_type": "display_data"
    },
    {
     "data": {
      "text/plain": [
       "'Feature: trip_type'"
      ]
     },
     "metadata": {},
     "output_type": "display_data"
    },
    {
     "data": {
      "text/plain": [
       "'Number of unique values: 2'"
      ]
     },
     "metadata": {},
     "output_type": "display_data"
    },
    {
     "data": {
      "text/plain": [
       "'Number of nulls: 36047'"
      ]
     },
     "metadata": {},
     "output_type": "display_data"
    },
    {
     "data": {
      "text/plain": [
       "1.0    39233\n",
       "2.0     1238\n",
       "Name: trip_type, dtype: int64"
      ]
     },
     "metadata": {},
     "output_type": "display_data"
    },
    {
     "data": {
      "text/plain": [
       "'Feature: congestion_surcharge'"
      ]
     },
     "metadata": {},
     "output_type": "display_data"
    },
    {
     "data": {
      "text/plain": [
       "'Number of unique values: 3'"
      ]
     },
     "metadata": {},
     "output_type": "display_data"
    },
    {
     "data": {
      "text/plain": [
       "'Number of nulls: 36047'"
      ]
     },
     "metadata": {},
     "output_type": "display_data"
    },
    {
     "data": {
      "text/plain": [
       "0.00    31437\n",
       "2.75     9029\n",
       "2.50        5\n",
       "Name: congestion_surcharge, dtype: int64"
      ]
     },
     "metadata": {},
     "output_type": "display_data"
    }
   ],
   "source": [
    "for column in numerical_columns:\n",
    "    display(f'Feature: {column}')\n",
    "    nuniques = df[column].nunique()\n",
    "    display(f'Number of unique values: {nuniques}')\n",
    "    display(f'Number of nulls: {df[column].isnull().sum()}')\n",
    "    if nuniques < 20:\n",
    "        display(df[column].value_counts(normalize=False))"
   ]
  },
  {
   "cell_type": "markdown",
   "id": "1123770c",
   "metadata": {},
   "source": [
    "Do not worry about the number of Nans because pickup and dropoff are ok, as well as locations."
   ]
  },
  {
   "cell_type": "markdown",
   "id": "9e38bcec",
   "metadata": {},
   "source": [
    "Generate the output: trip_duration in minutes"
   ]
  },
  {
   "cell_type": "code",
   "execution_count": 64,
   "id": "c76f934a",
   "metadata": {},
   "outputs": [],
   "source": [
    "df['duration'] = (df['lpep_dropoff_datetime'] - df['lpep_pickup_datetime']).dt.seconds / 60"
   ]
  },
  {
   "cell_type": "code",
   "execution_count": 65,
   "id": "9b2c4983",
   "metadata": {},
   "outputs": [
    {
     "data": {
      "text/plain": [
       "<seaborn.axisgrid.FacetGrid at 0x2589cc96040>"
      ]
     },
     "execution_count": 65,
     "metadata": {},
     "output_type": "execute_result"
    },
    {
     "data": {
      "image/png": "[encoded data removed]",
      "text/plain": [
       "<Figure size 360x360 with 1 Axes>"
      ]
     },
     "metadata": {
      "needs_background": "light"
     },
     "output_type": "display_data"
    }
   ],
   "source": [
    "sns.displot(df.duration, kind='kde')"
   ]
  },
  {
   "cell_type": "code",
   "execution_count": 66,
   "id": "fdeeff5c",
   "metadata": {},
   "outputs": [
    {
     "data": {
      "text/plain": [
       "count    76518.000000\n",
       "mean        19.927896\n",
       "std         59.338594\n",
       "min          0.000000\n",
       "10%          4.750000\n",
       "20%          7.000000\n",
       "50%         13.883333\n",
       "95%         44.000000\n",
       "98%         56.000000\n",
       "99%         67.158167\n",
       "max       1439.600000\n",
       "Name: duration, dtype: float64"
      ]
     },
     "execution_count": 66,
     "metadata": {},
     "output_type": "execute_result"
    }
   ],
   "source": [
    "df['duration'].describe(percentiles=[0.1, 0.2, 0.95, 0.98, 0.99])"
   ]
  },
  {
   "cell_type": "markdown",
   "id": "f768ff0e",
   "metadata": {},
   "source": [
    "Most of the data is within one hour (percentile 98% = 59.33 min). Also some very short trips, 20% less than 0.066 min\n",
    "Check the % of trips that are within the range of 1 mintute to 1 hour."
   ]
  },
  {
   "cell_type": "code",
   "execution_count": 67,
   "id": "0fd57774",
   "metadata": {},
   "outputs": [
    {
     "name": "stdout",
     "output_type": "stream",
     "text": [
      "% of trips within 1-60 min: 0.9658903787344154\n"
     ]
    }
   ],
   "source": [
    "print(f'% of trips within 1-60 min: {((df.duration >= 1) & (df.duration<=60)).mean()}')"
   ]
  },
  {
   "cell_type": "code",
   "execution_count": 68,
   "id": "fbc9d75f",
   "metadata": {},
   "outputs": [],
   "source": [
    "df = df[(df.duration >= 1) & (df.duration<=60)]"
   ]
  },
  {
   "cell_type": "markdown",
   "id": "4a42d926",
   "metadata": {},
   "source": [
    "For the first model, just use the following features: PULocationID, DOLocationID and trip_distance. "
   ]
  },
  {
   "cell_type": "markdown",
   "id": "e4696687",
   "metadata": {},
   "source": [
    "Feature engineering: Also, from the date-times we can extract day, month, etc, that gives very valuable information to the model. But not now."
   ]
  },
  {
   "cell_type": "markdown",
   "id": "acc6fefc",
   "metadata": {},
   "source": [
    "DictVectorizer treates any column not numerical as categorical, so we need to convert PULocationID, DOLocationID to str"
   ]
  },
  {
   "cell_type": "code",
   "execution_count": 69,
   "id": "2d4e1131",
   "metadata": {},
   "outputs": [],
   "source": [
    "categorical_features = ['PULocationID', 'DOLocationID']\n",
    "numerical_features=  ['trip_distance']\n",
    "target = 'duration'"
   ]
  },
  {
   "cell_type": "code",
   "execution_count": 70,
   "id": "9237ea36",
   "metadata": {},
   "outputs": [],
   "source": [
    "df[categorical_features] = df[categorical_features].astype('str')"
   ]
  },
  {
   "cell_type": "code",
   "execution_count": 261,
   "id": "11981bc4",
   "metadata": {},
   "outputs": [
    {
     "data": {
      "text/plain": [
       "VendorID                          int64\n",
       "lpep_pickup_datetime     datetime64[ns]\n",
       "lpep_dropoff_datetime    datetime64[ns]\n",
       "store_and_fwd_flag               object\n",
       "RatecodeID                      float64\n",
       "PULocationID                     object\n",
       "DOLocationID                     object\n",
       "passenger_count                 float64\n",
       "trip_distance                   float64\n",
       "fare_amount                     float64\n",
       "extra                           float64\n",
       "mta_tax                         float64\n",
       "tip_amount                      float64\n",
       "tolls_amount                    float64\n",
       "improvement_surcharge           float64\n",
       "total_amount                    float64\n",
       "payment_type                    float64\n",
       "trip_type                       float64\n",
       "congestion_surcharge            float64\n",
       "duration                        float64\n",
       "dtype: object"
      ]
     },
     "execution_count": 261,
     "metadata": {},
     "output_type": "execute_result"
    }
   ],
   "source": [
    "df.dtypes"
   ]
  },
  {
   "cell_type": "markdown",
   "id": "b3353a42",
   "metadata": {},
   "source": [
    "# Data Reading and preparation from function"
   ]
  },
  {
   "cell_type": "code",
   "execution_count": 126,
   "id": "099978af",
   "metadata": {},
   "outputs": [],
   "source": [
    "categorical_features = ['PULocationID', 'DOLocationID']\n",
    "numerical_features=  ['trip_distance']\n",
    "target = ['duration']"
   ]
  },
  {
   "cell_type": "code",
   "execution_count": 127,
   "id": "6d6f89d3",
   "metadata": {},
   "outputs": [],
   "source": [
    "df_train, y_train = read_dataframe(data_sources[0], categorical_features=categorical_features, numerical_features=numerical_features, target=target)\n",
    "df_val, y_val = read_dataframe(data_sources[1], categorical_features=categorical_features, numerical_features=numerical_features, target=target)"
   ]
  },
  {
   "cell_type": "markdown",
   "id": "c27cab7b",
   "metadata": {},
   "source": [
    "# Encoding"
   ]
  },
  {
   "cell_type": "code",
   "execution_count": 131,
   "id": "0553482b",
   "metadata": {},
   "outputs": [],
   "source": [
    "dv = DictVectorizer()"
   ]
  },
  {
   "cell_type": "code",
   "execution_count": 132,
   "id": "6969f45b",
   "metadata": {},
   "outputs": [],
   "source": [
    "train_dicts = df_train.to_dict(orient='records')\n",
    "val_dicts = df_val.to_dict(orient='records')"
   ]
  },
  {
   "cell_type": "code",
   "execution_count": 133,
   "id": "c2cb209a",
   "metadata": {},
   "outputs": [],
   "source": [
    "X_train = dv.fit_transform(train_dicts)\n",
    "X_val = dv.transform(val_dicts)"
   ]
  },
  {
   "cell_type": "code",
   "execution_count": 134,
   "id": "a5bc3658",
   "metadata": {},
   "outputs": [
    {
     "data": {
      "text/plain": [
       "(73908, 507)"
      ]
     },
     "execution_count": 134,
     "metadata": {},
     "output_type": "execute_result"
    }
   ],
   "source": [
    "X_train.shape"
   ]
  },
  {
   "cell_type": "code",
   "execution_count": 141,
   "id": "21288d1f",
   "metadata": {},
   "outputs": [],
   "source": [
    "y_train = y_train[target].values\n",
    "y_val = y_val[target].values"
   ]
  },
  {
   "cell_type": "markdown",
   "id": "b83b84af",
   "metadata": {},
   "source": [
    "# Lineal regression"
   ]
  },
  {
   "cell_type": "code",
   "execution_count": 142,
   "id": "2b786bbd",
   "metadata": {},
   "outputs": [
    {
     "data": {
      "text/plain": [
       "LinearRegression()"
      ]
     },
     "execution_count": 142,
     "metadata": {},
     "output_type": "execute_result"
    }
   ],
   "source": [
    "lr = LinearRegression()\n",
    "lr.fit(X_train, y_train)"
   ]
  },
  {
   "cell_type": "code",
   "execution_count": 143,
   "id": "56b34a60",
   "metadata": {},
   "outputs": [],
   "source": [
    "y_pred = lr.predict(X_train)"
   ]
  },
  {
   "cell_type": "code",
   "execution_count": 144,
   "id": "a3a856d7",
   "metadata": {},
   "outputs": [
    {
     "name": "stderr",
     "output_type": "stream",
     "text": [
      "C:\\Users\\MARCOS\\anaconda3\\envs\\mlops-zoomcamp\\lib\\site-packages\\seaborn\\distributions.py:2619: FutureWarning: `distplot` is a deprecated function and will be removed in a future version. Please adapt your code to use either `displot` (a figure-level function with similar flexibility) or `histplot` (an axes-level function for histograms).\n",
      "  warnings.warn(msg, FutureWarning)\n",
      "C:\\Users\\MARCOS\\anaconda3\\envs\\mlops-zoomcamp\\lib\\site-packages\\seaborn\\distributions.py:2619: FutureWarning: `distplot` is a deprecated function and will be removed in a future version. Please adapt your code to use either `displot` (a figure-level function with similar flexibility) or `histplot` (an axes-level function for histograms).\n",
      "  warnings.warn(msg, FutureWarning)\n"
     ]
    },
    {
     "data": {
      "text/plain": [
       "<matplotlib.legend.Legend at 0x258a4d05a90>"
      ]
     },
     "execution_count": 144,
     "metadata": {},
     "output_type": "execute_result"
    },
    {
     "data": {
      "image/png": "[encoded data removed]",
      "text/plain": [
       "<Figure size 432x288 with 1 Axes>"
      ]
     },
     "metadata": {
      "needs_background": "light"
     },
     "output_type": "display_data"
    }
   ],
   "source": [
    "sns.distplot(y_pred, label='predictions')\n",
    "sns.distplot(y_train, label='actual')\n",
    "plt.legend()"
   ]
  },
  {
   "cell_type": "markdown",
   "id": "989affab",
   "metadata": {},
   "source": [
    "Check performance in training dataset with rmse (return rmse, so is interpreted as the mean error in minutes)"
   ]
  },
  {
   "cell_type": "code",
   "execution_count": 145,
   "id": "ca3ddf9a",
   "metadata": {},
   "outputs": [
    {
     "data": {
      "text/plain": [
       "9.775491295103192"
      ]
     },
     "execution_count": 145,
     "metadata": {},
     "output_type": "execute_result"
    }
   ],
   "source": [
    "mean_squared_error(y_train,y_pred, squared=False)"
   ]
  },
  {
   "cell_type": "markdown",
   "id": "7c2ca4b0",
   "metadata": {},
   "source": [
    "The performance of this baseline model is bad. We can use other features, or change the "
   ]
  },
  {
   "cell_type": "markdown",
   "id": "4cae788d",
   "metadata": {},
   "source": [
    "# Validation framework\n",
    "We will use datasets from different months for train and validation"
   ]
  },
  {
   "cell_type": "code",
   "execution_count": 146,
   "id": "4455c7ba",
   "metadata": {},
   "outputs": [],
   "source": [
    "y_pred = lr.predict(X_val)"
   ]
  },
  {
   "cell_type": "code",
   "execution_count": 147,
   "id": "893db1dc",
   "metadata": {},
   "outputs": [
    {
     "data": {
      "text/plain": [
       "10.47339032019138"
      ]
     },
     "execution_count": 147,
     "metadata": {},
     "output_type": "execute_result"
    }
   ],
   "source": [
    "mean_squared_error(y_val,y_pred, squared=False)"
   ]
  },
  {
   "cell_type": "markdown",
   "id": "5a93d3ea",
   "metadata": {},
   "source": [
    "# Other models"
   ]
  },
  {
   "cell_type": "code",
   "execution_count": 148,
   "id": "531c97c6",
   "metadata": {},
   "outputs": [
    {
     "data": {
      "text/plain": [
       "10.812725703916977"
      ]
     },
     "execution_count": 148,
     "metadata": {},
     "output_type": "execute_result"
    }
   ],
   "source": [
    "lr = Lasso(alpha=0.01)\n",
    "lr.fit(X_train, y_train)\n",
    "y_pred = lr.predict(X_val)\n",
    "mean_squared_error(y_val, y_pred, squared=False)"
   ]
  },
  {
   "cell_type": "code",
   "execution_count": 149,
   "id": "e63d11ab",
   "metadata": {},
   "outputs": [
    {
     "data": {
      "text/plain": [
       "10.860753390359754"
      ]
     },
     "execution_count": 149,
     "metadata": {},
     "output_type": "execute_result"
    }
   ],
   "source": [
    "lr = Ridge()\n",
    "lr.fit(X_train, y_train)\n",
    "y_pred = lr.predict(X_val)\n",
    "mean_squared_error(y_val, y_pred, squared=False)"
   ]
  },
  {
   "cell_type": "markdown",
   "id": "636f0e2d",
   "metadata": {},
   "source": [
    "# Feature engineering\n",
    "Combine PU and DO (interaction features)"
   ]
  },
  {
   "cell_type": "code",
   "execution_count": 151,
   "id": "97a868cb",
   "metadata": {},
   "outputs": [],
   "source": [
    "df_train['PU_DO'] = df_train['PULocationID'] + '_' + df_train['DOLocationID']\n",
    "df_val['PU_DO'] = df_val['PULocationID'] + '_' + df_val['DOLocationID']"
   ]
  },
  {
   "cell_type": "code",
   "execution_count": 152,
   "id": "62f1dd2e",
   "metadata": {},
   "outputs": [],
   "source": [
    "categorical = ['PU_DO'] #'PULocationID', 'DOLocationID']"
   ]
  },
  {
   "cell_type": "code",
   "execution_count": 153,
   "id": "212bd715",
   "metadata": {},
   "outputs": [],
   "source": [
    "dv = DictVectorizer()\n",
    "\n",
    "train_dicts = df_train[categorical + numerical].to_dict(orient='records')\n",
    "X_train = dv.fit_transform(train_dicts)\n",
    "\n",
    "val_dicts = df_val[categorical + numerical].to_dict(orient='records')\n",
    "X_val = dv.transform(val_dicts)"
   ]
  },
  {
   "cell_type": "code",
   "execution_count": 154,
   "id": "ac4d4e26",
   "metadata": {},
   "outputs": [
    {
     "data": {
      "text/plain": [
       "7.479581745570146"
      ]
     },
     "execution_count": 154,
     "metadata": {},
     "output_type": "execute_result"
    }
   ],
   "source": [
    "lr = LinearRegression()\n",
    "lr.fit(X_train, y_train)\n",
    "\n",
    "y_pred = lr.predict(X_val)\n",
    "\n",
    "mean_squared_error(y_val, y_pred, squared=False)"
   ]
  },
  {
   "cell_type": "markdown",
   "id": "5186dafb",
   "metadata": {},
   "source": [
    "Save the best result"
   ]
  },
  {
   "cell_type": "code",
   "execution_count": 165,
   "id": "85df5837",
   "metadata": {},
   "outputs": [],
   "source": [
    "import os\n",
    "if not os.path.exists(\"./models\"):\n",
    "    os.makedirs(\"./models\")\n",
    "\n",
    "with open('models/lin_reg_green.bin','bw') as f_out:\n",
    "    pickle.dump((dv,lr), f_out)"
   ]
  },
  {
   "cell_type": "code",
   "execution_count": 164,
   "id": "f5b13095",
   "metadata": {},
   "outputs": [
    {
     "data": {
      "text/plain": [
       "11.167275941179728"
      ]
     },
     "execution_count": 164,
     "metadata": {},
     "output_type": "execute_result"
    }
   ],
   "source": [
    "lr = Lasso(0.01)\n",
    "lr.fit(X_train, y_train)\n",
    "\n",
    "y_pred = lr.predict(X_val)\n",
    "\n",
    "mean_squared_error(y_val, y_pred, squared=False)"
   ]
  },
  {
   "cell_type": "code",
   "execution_count": null,
   "id": "fe97ae6f",
   "metadata": {},
   "outputs": [],
   "source": []
  },
  {
   "cell_type": "code",
   "execution_count": null,
   "id": "87a9e2c0",
   "metadata": {},
   "outputs": [],
   "source": []
  }
 ],
 "metadata": {
  "kernelspec": {
   "display_name": "Python 3 (ipykernel)",
   "language": "python",
   "name": "python3"
  },
  "language_info": {
   "codemirror_mode": {
    "name": "ipython",
    "version": 3
   },
   "file_extension": ".py",
   "mimetype": "text/x-python",
   "name": "python",
   "nbconvert_exporter": "python",
   "pygments_lexer": "ipython3",
   "version": "3.9.7"
  }
 },
 "nbformat": 4,
 "nbformat_minor": 5
}
